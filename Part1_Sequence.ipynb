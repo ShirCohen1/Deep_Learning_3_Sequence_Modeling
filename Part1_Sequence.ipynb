{
 "cells": [
  {
   "cell_type": "markdown",
   "metadata": {
    "id": "ELRfXpQ95svr"
   },
   "source": [
    "$$\n",
    "\\newcommand{\\mat}[1]{\\boldsymbol {#1}}\n",
    "\\newcommand{\\mattr}[1]{\\boldsymbol {#1}^\\top}\n",
    "\\newcommand{\\matinv}[1]{\\boldsymbol {#1}^{-1}}\n",
    "\\newcommand{\\vec}[1]{\\boldsymbol {#1}}\n",
    "\\newcommand{\\vectr}[1]{\\boldsymbol {#1}^\\top}\n",
    "\\newcommand{\\rvar}[1]{\\mathrm {#1}}\n",
    "\\newcommand{\\rvec}[1]{\\boldsymbol{\\mathrm{#1}}}\n",
    "\\newcommand{\\diag}{\\mathop{\\mathrm {diag}}}\n",
    "\\newcommand{\\set}[1]{\\mathbb {#1}}\n",
    "\\newcommand{\\norm}[1]{\\left\\lVert#1\\right\\rVert}\n",
    "\\newcommand{\\pderiv}[2]{\\frac{\\partial #1}{\\partial #2}}\n",
    "\\newcommand{\\bb}[1]{\\boldsymbol{#1}}\n",
    "$$\n",
    "# Part 1: Sequence Models\n",
    "<a id=part1></a>"
   ]
  },
  {
   "cell_type": "markdown",
   "metadata": {
    "id": "di4vCY115svw"
   },
   "source": [
    "In this part we will learn about working with text sequences using recurrent neural networks.\n",
    "We'll go from a raw text file all the way to a fully trained GRU-RNN model and generate works of art!"
   ]
  },
  {
   "cell_type": "code",
   "execution_count": 4,
   "metadata": {
    "execution": {
     "iopub.execute_input": "2021-01-22T10:38:24.392532Z",
     "iopub.status.busy": "2021-01-22T10:38:24.391821Z",
     "iopub.status.idle": "2021-01-22T10:38:28.592846Z",
     "shell.execute_reply": "2021-01-22T10:38:28.593374Z"
    },
    "executionInfo": {
     "elapsed": 937,
     "status": "ok",
     "timestamp": 1640447845454,
     "user": {
      "displayName": "Dana Gorovici",
      "photoUrl": "https://lh3.googleusercontent.com/a/default-user=s64",
      "userId": "03883066315521848737"
     },
     "user_tz": -120
    },
    "id": "ggKVKQiG5svx"
   },
   "outputs": [],
   "source": [
    "import unittest\n",
    "import os\n",
    "import sys\n",
    "import pathlib\n",
    "import urllib\n",
    "import shutil\n",
    "import re\n",
    "\n",
    "import numpy as np\n",
    "import torch\n",
    "import matplotlib.pyplot as plt\n",
    "\n",
    "%load_ext autoreload\n",
    "%autoreload 2"
   ]
  },
  {
   "cell_type": "code",
   "execution_count": 5,
   "metadata": {
    "colab": {
     "base_uri": "https://localhost:8080/"
    },
    "execution": {
     "iopub.execute_input": "2021-01-22T10:38:28.596883Z",
     "iopub.status.busy": "2021-01-22T10:38:28.596381Z",
     "iopub.status.idle": "2021-01-22T10:38:28.616333Z",
     "shell.execute_reply": "2021-01-22T10:38:28.616876Z"
    },
    "executionInfo": {
     "elapsed": 12,
     "status": "ok",
     "timestamp": 1640447845454,
     "user": {
      "displayName": "Dana Gorovici",
      "photoUrl": "https://lh3.googleusercontent.com/a/default-user=s64",
      "userId": "03883066315521848737"
     },
     "user_tz": -120
    },
    "id": "xNHRxRYD5svy",
    "outputId": "b410f9d1-97a6-4b30-9fb4-3b860d8e29a7"
   },
   "outputs": [
    {
     "name": "stdout",
     "output_type": "stream",
     "text": [
      "Using device: cuda\n"
     ]
    }
   ],
   "source": [
    "test = unittest.TestCase()\n",
    "plt.rcParams.update({'font.size': 12})\n",
    "device = torch.device('cuda' if torch.cuda.is_available() else 'cpu')\n",
    "print('Using device:', device)"
   ]
  },
  {
   "cell_type": "markdown",
   "metadata": {
    "id": "yanaeTsK5svz"
   },
   "source": [
    "## Text generation with a char-level RNN\n",
    "<a id=part1_1></a>"
   ]
  },
  {
   "cell_type": "markdown",
   "metadata": {
    "id": "CPZR9sPn5svz"
   },
   "source": [
    "### Obtaining the corpus\n",
    "<a id=part1_2></a>"
   ]
  },
  {
   "cell_type": "markdown",
   "metadata": {
    "id": "8CTqJlVb5sv0"
   },
   "source": [
    "Let's begin by downloading a corpus containing all the works of William Shakespeare.\n",
    "Since he was very prolific, this corpus is fairly large and will provide us with enough data for\n",
    "obtaining impressive results."
   ]
  },
  {
   "cell_type": "code",
   "execution_count": 6,
   "metadata": {
    "colab": {
     "base_uri": "https://localhost:8080/"
    },
    "execution": {
     "iopub.execute_input": "2021-01-22T10:38:28.622584Z",
     "iopub.status.busy": "2021-01-22T10:38:28.621857Z",
     "iopub.status.idle": "2021-01-22T10:38:28.645670Z",
     "shell.execute_reply": "2021-01-22T10:38:28.646208Z"
    },
    "executionInfo": {
     "elapsed": 9,
     "status": "ok",
     "timestamp": 1640447845454,
     "user": {
      "displayName": "Dana Gorovici",
      "photoUrl": "https://lh3.googleusercontent.com/a/default-user=s64",
      "userId": "03883066315521848737"
     },
     "user_tz": -120
    },
    "id": "IIRHVV9K5sv1",
    "outputId": "876d4575-b415-499a-a9a5-57bf500b0ae0"
   },
   "outputs": [
    {
     "name": "stdout",
     "output_type": "stream",
     "text": [
      "Corpus file /root/.pytorch-datasets/shakespeare.txt exists, skipping download.\n"
     ]
    }
   ],
   "source": [
    "CORPUS_URL = 'https://github.com/cedricdeboom/character-level-rnn-datasets/raw/master/datasets/shakespeare.txt'\n",
    "DATA_DIR = pathlib.Path.home().joinpath('.pytorch-datasets')\n",
    "\n",
    "def download_corpus(out_path=DATA_DIR, url=CORPUS_URL, force=False):\n",
    "    pathlib.Path(out_path).mkdir(exist_ok=True)\n",
    "    out_filename = os.path.join(out_path, os.path.basename(url))\n",
    "    \n",
    "    if os.path.isfile(out_filename) and not force:\n",
    "        print(f'Corpus file {out_filename} exists, skipping download.')\n",
    "    else:\n",
    "        print(f'Downloading {url}...')\n",
    "        with urllib.request.urlopen(url) as response, open(out_filename, 'wb') as out_file:\n",
    "            shutil.copyfileobj(response, out_file)\n",
    "        print(f'Saved to {out_filename}.')\n",
    "    return out_filename\n",
    "    \n",
    "corpus_path = download_corpus()"
   ]
  },
  {
   "cell_type": "markdown",
   "metadata": {
    "id": "Tvfy9MSq5sv3"
   },
   "source": [
    "Load the text into memory and print a snippet:"
   ]
  },
  {
   "cell_type": "code",
   "execution_count": 7,
   "metadata": {
    "colab": {
     "base_uri": "https://localhost:8080/"
    },
    "execution": {
     "iopub.execute_input": "2021-01-22T10:38:28.649588Z",
     "iopub.status.busy": "2021-01-22T10:38:28.649097Z",
     "iopub.status.idle": "2021-01-22T10:38:28.684132Z",
     "shell.execute_reply": "2021-01-22T10:38:28.684700Z"
    },
    "executionInfo": {
     "elapsed": 7,
     "status": "ok",
     "timestamp": 1640447845454,
     "user": {
      "displayName": "Dana Gorovici",
      "photoUrl": "https://lh3.googleusercontent.com/a/default-user=s64",
      "userId": "03883066315521848737"
     },
     "user_tz": -120
    },
    "id": "kKj1kmhu5sv4",
    "outputId": "17887486-d612-4522-c61c-4b4ecf55025d"
   },
   "outputs": [
    {
     "name": "stdout",
     "output_type": "stream",
     "text": [
      "Corpus length: 6347703 chars\n",
      "ALLS WELL THAT ENDS WELL\n",
      "\n",
      "by William Shakespeare\n",
      "\n",
      "Dramatis Personae\n",
      "\n",
      "  KING OF FRANCE\n",
      "  THE DUKE OF FLORENCE\n",
      "  BERTRAM, Count of Rousillon\n",
      "  LAFEU, an old lord\n",
      "  PAROLLES, a follower of Bertram\n",
      "  TWO FRENCH LORDS, serving with Bertram\n",
      "\n",
      "  STEWARD, Servant to the Countess of Rousillon\n",
      "  LAVACHE, a clown and Servant to the Countess of Rousillon\n",
      "  A PAGE, Servant to the Countess of Rousillon\n",
      "\n",
      "  COUNTESS OF ROUSILLON, mother to Bertram\n",
      "  HELENA, a gentlewoman protected by the Countess\n",
      "  A WIDOW OF FLORENCE.\n",
      "  DIANA, daughter to the Widow\n",
      "\n",
      "  VIOLENTA, neighbour and friend to the Widow\n",
      "  MARIANA, neighbour and friend to the Widow\n",
      "\n",
      "  Lords, Officers, Soldiers, etc., French and Florentine  \n",
      "\n",
      "SCENE:\n",
      "Rousillon; Paris; Florence; Marseilles\n",
      "\n",
      "ACT I. SCENE 1.\n",
      "Rousillon. The COUNT'S palace\n",
      "\n",
      "Enter BERTRAM, the COUNTESS OF ROUSILLON, HELENA, and LAFEU, all in black\n",
      "\n",
      "  COUNTESS. In delivering my son from me, I bury a second husband.\n",
      "  BERTRAM. And I in going, madam, weep o'er my father's death anew;\n",
      "    but I must attend his Majesty's command, to whom I am now in\n",
      "    ward, evermore in subjection.\n",
      "  LAFEU. You shall find of the King a husband, madam; you, sir, a\n",
      "    father. He that so generally is at all times good must of\n",
      "    \n"
     ]
    }
   ],
   "source": [
    "with open(corpus_path, 'r', encoding='utf-8') as f:\n",
    "    corpus = f.read()\n",
    "\n",
    "print(f'Corpus length: {len(corpus)} chars')\n",
    "print(corpus[7:1234])"
   ]
  },
  {
   "cell_type": "markdown",
   "metadata": {
    "id": "zrdW2-bM5sv4"
   },
   "source": [
    "### Data Preprocessing\n",
    "<a id=part1_3></a>"
   ]
  },
  {
   "cell_type": "markdown",
   "metadata": {
    "id": "P2GlVCZD5sv5"
   },
   "source": [
    "The first thing we'll need is to map from each unique character in the corpus to an index that will represent it in our learning process.\n",
    "\n",
    "**TODO**: Implement the `char_maps()` function in the `hw3/charnn.py` module."
   ]
  },
  {
   "cell_type": "code",
   "execution_count": 8,
   "metadata": {
    "colab": {
     "base_uri": "https://localhost:8080/"
    },
    "execution": {
     "iopub.execute_input": "2021-01-22T10:38:28.688548Z",
     "iopub.status.busy": "2021-01-22T10:38:28.688076Z",
     "iopub.status.idle": "2021-01-22T10:38:28.793012Z",
     "shell.execute_reply": "2021-01-22T10:38:28.793502Z"
    },
    "executionInfo": {
     "elapsed": 7,
     "status": "ok",
     "timestamp": 1640447845455,
     "user": {
      "displayName": "Dana Gorovici",
      "photoUrl": "https://lh3.googleusercontent.com/a/default-user=s64",
      "userId": "03883066315521848737"
     },
     "user_tz": -120
    },
    "id": "cZTG9Cqz5sv6",
    "outputId": "912817d0-8c0d-407e-dcd3-2f43e3cbd3a1"
   },
   "outputs": [
    {
     "name": "stdout",
     "output_type": "stream",
     "text": [
      "{'\\n': 0, ' ': 1, '!': 2, '\"': 3, '$': 4, '&': 5, \"'\": 6, '(': 7, ')': 8, ',': 9, '-': 10, '.': 11, '0': 12, '1': 13, '2': 14, '3': 15, '4': 16, '5': 17, '6': 18, '7': 19, '8': 20, '9': 21, ':': 22, ';': 23, '<': 24, '?': 25, 'A': 26, 'B': 27, 'C': 28, 'D': 29, 'E': 30, 'F': 31, 'G': 32, 'H': 33, 'I': 34, 'J': 35, 'K': 36, 'L': 37, 'M': 38, 'N': 39, 'O': 40, 'P': 41, 'Q': 42, 'R': 43, 'S': 44, 'T': 45, 'U': 46, 'V': 47, 'W': 48, 'X': 49, 'Y': 50, 'Z': 51, '[': 52, ']': 53, '_': 54, 'a': 55, 'b': 56, 'c': 57, 'd': 58, 'e': 59, 'f': 60, 'g': 61, 'h': 62, 'i': 63, 'j': 64, 'k': 65, 'l': 66, 'm': 67, 'n': 68, 'o': 69, 'p': 70, 'q': 71, 'r': 72, 's': 73, 't': 74, 'u': 75, 'v': 76, 'w': 77, 'x': 78, 'y': 79, 'z': 80, '}': 81, '\\ufeff': 82}\n"
     ]
    }
   ],
   "source": [
    "import hw3.charnn as charnn\n",
    "\n",
    "char_to_idx, idx_to_char = charnn.char_maps(corpus)\n",
    "print(char_to_idx)\n",
    "\n",
    "test.assertEqual(len(char_to_idx), len(idx_to_char))\n",
    "test.assertSequenceEqual(list(char_to_idx.keys()), list(idx_to_char.values()))\n",
    "test.assertSequenceEqual(list(char_to_idx.values()), list(idx_to_char.keys()))"
   ]
  },
  {
   "cell_type": "markdown",
   "metadata": {
    "id": "eD2aCWra5sv6"
   },
   "source": [
    "Seems we have some strange characters in the corpus that are very rare and are probably due to mistakes.\n",
    "To reduce the length of each tensor we'll need to later represent our chars, it's best to remove them.\n",
    "\n",
    "**TODO**: Implement the `remove_chars()` function in the `hw3/charnn.py` module."
   ]
  },
  {
   "cell_type": "code",
   "execution_count": 9,
   "metadata": {
    "colab": {
     "base_uri": "https://localhost:8080/"
    },
    "execution": {
     "iopub.execute_input": "2021-01-22T10:38:28.797109Z",
     "iopub.status.busy": "2021-01-22T10:38:28.796640Z",
     "iopub.status.idle": "2021-01-22T10:38:28.930226Z",
     "shell.execute_reply": "2021-01-22T10:38:28.930754Z"
    },
    "executionInfo": {
     "elapsed": 5,
     "status": "ok",
     "timestamp": 1640447845455,
     "user": {
      "displayName": "Dana Gorovici",
      "photoUrl": "https://lh3.googleusercontent.com/a/default-user=s64",
      "userId": "03883066315521848737"
     },
     "user_tz": -120
    },
    "id": "6zw5fDBc5sv7",
    "outputId": "e64d53bb-8679-45ad-d0b3-ce3b251829ab"
   },
   "outputs": [
    {
     "name": "stdout",
     "output_type": "stream",
     "text": [
      "Removed 34 chars\n"
     ]
    }
   ],
   "source": [
    "corpus, n_removed = charnn.remove_chars(corpus, ['}','$','_','<','\\ufeff'])\n",
    "print(f'Removed {n_removed} chars')\n",
    "\n",
    "# After removing the chars, re-create the mappings\n",
    "char_to_idx, idx_to_char = charnn.char_maps(corpus)"
   ]
  },
  {
   "cell_type": "markdown",
   "metadata": {
    "id": "SddwNSWW5sv7"
   },
   "source": [
    "The next thing we need is an **embedding** of the chracters.\n",
    "An embedding is a representation of each token from the sequence as a tensor.\n",
    "For a char-level RNN, our tokens will be chars and we can thus use the simplest possible embedding: encode each char as a **one-hot** tensor. In other words, each char will be represented\n",
    "as a tensor whos length is the total number of unique chars (`V`) which contains all zeros except at the index\n",
    "corresponding to that specific char.\n",
    "\n",
    "**TODO**: Implement the functions `chars_to_onehot()` and `onehot_to_chars()` in the `hw3/charnn.py` module."
   ]
  },
  {
   "cell_type": "code",
   "execution_count": 10,
   "metadata": {
    "colab": {
     "base_uri": "https://localhost:8080/"
    },
    "execution": {
     "iopub.execute_input": "2021-01-22T10:38:28.934809Z",
     "iopub.status.busy": "2021-01-22T10:38:28.934301Z",
     "iopub.status.idle": "2021-01-22T10:38:28.969076Z",
     "shell.execute_reply": "2021-01-22T10:38:28.969799Z"
    },
    "executionInfo": {
     "elapsed": 4,
     "status": "ok",
     "timestamp": 1640447845455,
     "user": {
      "displayName": "Dana Gorovici",
      "photoUrl": "https://lh3.googleusercontent.com/a/default-user=s64",
      "userId": "03883066315521848737"
     },
     "user_tz": -120
    },
    "id": "EndvxMb75sv8",
    "outputId": "3452743b-8d9e-4e75-a9b2-f78b15dd3662"
   },
   "outputs": [
    {
     "name": "stdout",
     "output_type": "stream",
     "text": [
      "brine a maiden can season her praise in.\n",
      "   \n",
      "tensor([[0, 0, 0, 0, 0, 0, 0, 0, 0, 0, 0, 0, 0, 0, 0, 0, 0, 0, 0, 0, 0, 0, 0, 0,\n",
      "         0, 0, 0, 0, 0, 0, 0, 0, 0, 0, 0, 0, 0, 0, 0, 0, 0, 0, 0, 0, 0, 0, 0, 0,\n",
      "         0, 0, 0, 0, 0, 1, 0, 0, 0, 0, 0, 0, 0, 0, 0, 0, 0, 0, 0, 0, 0, 0, 0, 0,\n",
      "         0, 0, 0, 0, 0, 0],\n",
      "        [0, 0, 0, 0, 0, 0, 0, 0, 0, 0, 0, 0, 0, 0, 0, 0, 0, 0, 0, 0, 0, 0, 0, 0,\n",
      "         0, 0, 0, 0, 0, 0, 0, 0, 0, 0, 0, 0, 0, 0, 0, 0, 0, 0, 0, 0, 0, 0, 0, 0,\n",
      "         0, 0, 0, 0, 0, 0, 0, 0, 0, 0, 0, 0, 0, 0, 0, 0, 0, 0, 0, 0, 0, 1, 0, 0,\n",
      "         0, 0, 0, 0, 0, 0],\n",
      "        [0, 0, 0, 0, 0, 0, 0, 0, 0, 0, 0, 0, 0, 0, 0, 0, 0, 0, 0, 0, 0, 0, 0, 0,\n",
      "         0, 0, 0, 0, 0, 0, 0, 0, 0, 0, 0, 0, 0, 0, 0, 0, 0, 0, 0, 0, 0, 0, 0, 0,\n",
      "         0, 0, 0, 0, 0, 0, 0, 0, 0, 0, 0, 0, 1, 0, 0, 0, 0, 0, 0, 0, 0, 0, 0, 0,\n",
      "         0, 0, 0, 0, 0, 0]], dtype=torch.int8)\n"
     ]
    }
   ],
   "source": [
    "# Wrap the actual embedding functions for calling convenience\n",
    "def embed(text):\n",
    "    return charnn.chars_to_onehot(text, char_to_idx)\n",
    "\n",
    "def unembed(embedding):\n",
    "    return charnn.onehot_to_chars(embedding, idx_to_char)\n",
    "\n",
    "text_snippet = corpus[3104:3148]\n",
    "print(text_snippet)\n",
    "print(embed(text_snippet[0:3]))\n",
    "\n",
    "test.assertEqual(text_snippet, unembed(embed(text_snippet)))\n",
    "test.assertEqual(embed(text_snippet).dtype, torch.int8)"
   ]
  },
  {
   "cell_type": "markdown",
   "metadata": {
    "id": "Vd_4Sz1R5sv8"
   },
   "source": [
    "### Dataset Creation\n",
    "<a id=part1_4></a>"
   ]
  },
  {
   "cell_type": "markdown",
   "metadata": {
    "id": "tQq1EdpV5sv8"
   },
   "source": [
    "We wish to train our model to generate text by constantly predicting what the next char should be based on the past.\n",
    "To that end we'll need to train our recurrent network in a way similar to a classification task. At each timestep, we input a char and set the expected output (label) to be the next char in the original sequence.\n",
    "\n",
    "We will split our corpus into shorter sequences of length `S` chars (see question below).\n",
    "Each **sample** we provide our model with will therefore be a tensor of shape `(S,V)` where `V` is the embedding dimension. Our model will operate sequentially on each char in the sequence.\n",
    "For each sample, we'll also need a **label**. This is simply another sequence, shifted by one char so that the label of each char is the next char in the corpus."
   ]
  },
  {
   "cell_type": "markdown",
   "metadata": {
    "id": "dsXNBMiI5sv8"
   },
   "source": [
    "**TODO**: Implement the `chars_to_labelled_samples()` function in the `hw3/charnn.py` module."
   ]
  },
  {
   "cell_type": "code",
   "execution_count": 11,
   "metadata": {
    "colab": {
     "base_uri": "https://localhost:8080/"
    },
    "execution": {
     "iopub.execute_input": "2021-01-22T10:38:28.975906Z",
     "iopub.status.busy": "2021-01-22T10:38:28.975377Z",
     "iopub.status.idle": "2021-01-22T10:38:31.834508Z",
     "shell.execute_reply": "2021-01-22T10:38:31.834983Z"
    },
    "executionInfo": {
     "elapsed": 9016,
     "status": "ok",
     "timestamp": 1640447854468,
     "user": {
      "displayName": "Dana Gorovici",
      "photoUrl": "https://lh3.googleusercontent.com/a/default-user=s64",
      "userId": "03883066315521848737"
     },
     "user_tz": -120
    },
    "id": "oR0IEIPq5sv9",
    "outputId": "f727c6b5-0743-4d95-f0a8-036ed8c23a25"
   },
   "outputs": [
    {
     "name": "stdout",
     "output_type": "stream",
     "text": [
      "samples shape: torch.Size([99182, 64, 78])\n",
      "labels shape: torch.Size([99182, 64])\n"
     ]
    }
   ],
   "source": [
    "# Create dataset of sequences\n",
    "seq_len = 64\n",
    "vocab_len = len(char_to_idx)\n",
    "\n",
    "# Create labelled samples\n",
    "samples, labels = charnn.chars_to_labelled_samples(corpus, char_to_idx, seq_len, device)\n",
    "print(f'samples shape: {samples.shape}')\n",
    "print(f'labels shape: {labels.shape}')\n",
    "\n",
    "# Test shapes\n",
    "num_samples = (len(corpus) - 1) // seq_len\n",
    "test.assertEqual(samples.shape, (num_samples, seq_len, vocab_len))\n",
    "test.assertEqual(labels.shape, (num_samples, seq_len))\n",
    "\n",
    "# Test content\n",
    "for _ in range(1000):\n",
    "    # random sample\n",
    "    i = np.random.randint(num_samples, size=(1,))[0]\n",
    "    # Compare to corpus\n",
    "    test.assertEqual(unembed(samples[i]), corpus[i*seq_len:(i+1)*seq_len], msg=f\"content mismatch in sample {i}\")\n",
    "    # Compare to labels\n",
    "    sample_text = unembed(samples[i])\n",
    "    label_text = str.join('', [idx_to_char[j.item()] for j in labels[i]])\n",
    "    test.assertEqual(sample_text[1:], label_text[0:-1], msg=f\"label mismatch in sample {i}\")"
   ]
  },
  {
   "cell_type": "markdown",
   "metadata": {
    "id": "mv9lBdwi5sv9"
   },
   "source": [
    "Let's print a few consecutive samples. You should see that the text continues between them."
   ]
  },
  {
   "cell_type": "code",
   "execution_count": 12,
   "metadata": {
    "colab": {
     "base_uri": "https://localhost:8080/"
    },
    "execution": {
     "iopub.execute_input": "2021-01-22T10:38:31.839059Z",
     "iopub.status.busy": "2021-01-22T10:38:31.838370Z",
     "iopub.status.idle": "2021-01-22T10:38:31.860310Z",
     "shell.execute_reply": "2021-01-22T10:38:31.860806Z"
    },
    "executionInfo": {
     "elapsed": 11,
     "status": "ok",
     "timestamp": 1640447854468,
     "user": {
      "displayName": "Dana Gorovici",
      "photoUrl": "https://lh3.googleusercontent.com/a/default-user=s64",
      "userId": "03883066315521848737"
     },
     "user_tz": -120
    },
    "id": "nRzJx1wa5sv9",
    "outputId": "b1724c13-1463-49d4-f71a-24b66c6df81b"
   },
   "outputs": [
    {
     "name": "stdout",
     "output_type": "stream",
     "text": [
      "sample [75549]:\n",
      "\tSIR TOBY. Who? Sir Andrew Aguecheek? MARIA. Ay, he. SIR T\n",
      "sample [75550]:\n",
      "\tOBY. He's as tall a man as any's in Illyria. MARIA. What's tha\n",
      "sample [75551]:\n",
      "\tt to th' purpose? SIR TOBY. Why, he has three thousand ducat\n",
      "sample [75552]:\n",
      "\ts a year. MARIA. Ay, but he'll have but a year in all these du\n",
      "sample [75553]:\n",
      "\tcats; he's a very fool and a prodigal. SIR TOBY. Fie that\n"
     ]
    }
   ],
   "source": [
    "import re\n",
    "import random\n",
    "\n",
    "i = random.randrange(num_samples-5)\n",
    "for i in range(i, i+5):\n",
    "    test.assertEqual(len(samples[i]), seq_len)\n",
    "    s = re.sub(r'\\s+', ' ', unembed(samples[i])).strip()\n",
    "    print(f'sample [{i}]:\\n\\t{s}')"
   ]
  },
  {
   "cell_type": "markdown",
   "metadata": {
    "id": "LgZwNEuI5sv-"
   },
   "source": [
    "As usual, instead of feeding one sample at a time into our model's forward we'll work with **batches** of samples. This means that at every timestep, our model will operate on a batch of chars that are from **different sequences**.\n",
    "Effectively this will allow us to parallelize training our model by dong matrix-matrix multiplications\n",
    "instead of matrix-vector during the forward pass."
   ]
  },
  {
   "cell_type": "markdown",
   "metadata": {
    "id": "OTm4rN3N5sv-"
   },
   "source": [
    "An important nuance is that we need the batches to be **contiguous**, i.e. sample $k$ in batch $j$ should continue sample $k$ from batch $j-1$.\n",
    "The following figure illustrates this:\n",
    "\n",
    "<img src=\"imgs/rnn-batching.png\"/>\n",
    "\n",
    "If we naïvely take consecutive samples into batches, e.g. `[0,1,...,B-1]`, `[B,B+1,...,2B-1]` and so on, we won't have contiguous\n",
    "sequences at the same index between adjacent batches.\n",
    "\n",
    "To accomplish this we need to tell our `DataLoader` which samples to combine together into one batch.\n",
    "We do this by implementing a custom PyTorch `Sampler`, and providing it to our `DataLoader`."
   ]
  },
  {
   "cell_type": "markdown",
   "metadata": {
    "id": "Ihs8x8mh5sv_"
   },
   "source": [
    "**TODO**: Implement the `SequenceBatchSampler` class in the `hw3/charnn.py` module."
   ]
  },
  {
   "cell_type": "code",
   "execution_count": 13,
   "metadata": {
    "colab": {
     "base_uri": "https://localhost:8080/"
    },
    "execution": {
     "iopub.execute_input": "2021-01-22T10:38:31.864768Z",
     "iopub.status.busy": "2021-01-22T10:38:31.864298Z",
     "iopub.status.idle": "2021-01-22T10:38:31.884374Z",
     "shell.execute_reply": "2021-01-22T10:38:31.884886Z"
    },
    "executionInfo": {
     "elapsed": 11,
     "status": "ok",
     "timestamp": 1640447854469,
     "user": {
      "displayName": "Dana Gorovici",
      "photoUrl": "https://lh3.googleusercontent.com/a/default-user=s64",
      "userId": "03883066315521848737"
     },
     "user_tz": -120
    },
    "id": "RCvJKRBZ5sv_",
    "outputId": "2bf37bba-3b67-4524-b600-ea805f3f9878"
   },
   "outputs": [
    {
     "name": "stdout",
     "output_type": "stream",
     "text": [
      "sampler_idx =\n",
      " [0, 3, 6, 9, 12, 15, 18, 21, 24, 27, 1, 4, 7, 10, 13, 16, 19, 22, 25, 28, 2, 5, 8, 11, 14, 17, 20, 23, 26, 29]\n"
     ]
    }
   ],
   "source": [
    "from hw3.charnn import SequenceBatchSampler\n",
    "\n",
    "sampler = SequenceBatchSampler(dataset=range(32), batch_size=10)\n",
    "sampler_idx = list(sampler)\n",
    "print('sampler_idx =\\n', sampler_idx)\n",
    "\n",
    "# Test the Sampler\n",
    "test.assertEqual(len(sampler_idx), 30)\n",
    "batch_idx = np.array(sampler_idx).reshape(-1, 10)\n",
    "for k in range(10):\n",
    "    test.assertEqual(np.diff(batch_idx[:, k], n=2).item(), 0)"
   ]
  },
  {
   "cell_type": "markdown",
   "metadata": {
    "id": "6SIKE7cl5swA"
   },
   "source": [
    "Even though we're working with sequences, we can still use the standard PyTorch `Dataset`/`DataLoader` combo.\n",
    "For the dataset we can use a built-in class, `TensorDataset` to return tuples of `(sample, label)`\n",
    "from the `samples` and `labels` tensors we created above.\n",
    "The `DataLoader` will be provided with our custom `Sampler` so that it generates appropriate batches."
   ]
  },
  {
   "cell_type": "code",
   "execution_count": 14,
   "metadata": {
    "execution": {
     "iopub.execute_input": "2021-01-22T10:38:31.888238Z",
     "iopub.status.busy": "2021-01-22T10:38:31.887762Z",
     "iopub.status.idle": "2021-01-22T10:38:31.907545Z",
     "shell.execute_reply": "2021-01-22T10:38:31.908104Z"
    },
    "executionInfo": {
     "elapsed": 9,
     "status": "ok",
     "timestamp": 1640447854469,
     "user": {
      "displayName": "Dana Gorovici",
      "photoUrl": "https://lh3.googleusercontent.com/a/default-user=s64",
      "userId": "03883066315521848737"
     },
     "user_tz": -120
    },
    "id": "nMNM6BlM5swA"
   },
   "outputs": [],
   "source": [
    "import torch.utils.data\n",
    "\n",
    "# Create DataLoader returning batches of samples.\n",
    "batch_size = 32\n",
    "\n",
    "ds_corpus = torch.utils.data.TensorDataset(samples, labels)\n",
    "sampler_corpus = SequenceBatchSampler(ds_corpus, batch_size)\n",
    "dl_corpus = torch.utils.data.DataLoader(ds_corpus, batch_size=batch_size, sampler=sampler_corpus, shuffle=False)"
   ]
  },
  {
   "cell_type": "markdown",
   "metadata": {
    "id": "8r_G2dKG5swB"
   },
   "source": [
    "Let's see what that gives us:"
   ]
  },
  {
   "cell_type": "code",
   "execution_count": 15,
   "metadata": {
    "colab": {
     "base_uri": "https://localhost:8080/"
    },
    "execution": {
     "iopub.execute_input": "2021-01-22T10:38:31.911293Z",
     "iopub.status.busy": "2021-01-22T10:38:31.910810Z",
     "iopub.status.idle": "2021-01-22T10:38:31.939464Z",
     "shell.execute_reply": "2021-01-22T10:38:31.940068Z"
    },
    "executionInfo": {
     "elapsed": 9,
     "status": "ok",
     "timestamp": 1640447854469,
     "user": {
      "displayName": "Dana Gorovici",
      "photoUrl": "https://lh3.googleusercontent.com/a/default-user=s64",
      "userId": "03883066315521848737"
     },
     "user_tz": -120
    },
    "id": "JkdKdfzn5swB",
    "outputId": "5f49577e-0a2b-402c-a834-40a5c30efef5"
   },
   "outputs": [
    {
     "name": "stdout",
     "output_type": "stream",
     "text": [
      "num batches: 3100\n",
      "shape of a batch of samples: torch.Size([32, 64, 78])\n",
      "shape of a batch of labels: torch.Size([32, 64])\n"
     ]
    }
   ],
   "source": [
    "print(f'num batches: {len(dl_corpus)}')\n",
    "\n",
    "x0, y0 = next(iter(dl_corpus))\n",
    "print(f'shape of a batch of samples: {x0.shape}')\n",
    "print(f'shape of a batch of labels: {y0.shape}')"
   ]
  },
  {
   "cell_type": "markdown",
   "metadata": {
    "id": "2xVSN4OQ5swC"
   },
   "source": [
    "Now lets look at the same sample index from multiple batches taken from our corpus."
   ]
  },
  {
   "cell_type": "code",
   "execution_count": 16,
   "metadata": {
    "colab": {
     "base_uri": "https://localhost:8080/"
    },
    "execution": {
     "iopub.execute_input": "2021-01-22T10:38:31.944231Z",
     "iopub.status.busy": "2021-01-22T10:38:31.943725Z",
     "iopub.status.idle": "2021-01-22T10:38:31.969478Z",
     "shell.execute_reply": "2021-01-22T10:38:31.969991Z"
    },
    "executionInfo": {
     "elapsed": 7,
     "status": "ok",
     "timestamp": 1640447854469,
     "user": {
      "displayName": "Dana Gorovici",
      "photoUrl": "https://lh3.googleusercontent.com/a/default-user=s64",
      "userId": "03883066315521848737"
     },
     "user_tz": -120
    },
    "id": "iI2Ze1kG5swD",
    "outputId": "573903be-430f-4504-c13c-c4786558781a"
   },
   "outputs": [
    {
     "name": "stdout",
     "output_type": "stream",
     "text": [
      "=== batch 0, sample 12 (torch.Size([64, 78])): ===\n",
      "\te well. I know not, gentlemen, what you intend, Who else\n",
      "=== batch 1, sample 12 (torch.Size([64, 78])): ===\n",
      "\tmust be let blood, who else is rank. If I myself, there is\n",
      "=== batch 2, sample 12 (torch.Size([64, 78])): ===\n",
      "\tno hour so fit As Caesar's death's hour, nor no instrument\n",
      "=== batch 3, sample 12 (torch.Size([64, 78])): ===\n",
      "\tOf half that worth as those your swords, made rich With t\n",
      "=== batch 4, sample 12 (torch.Size([64, 78])): ===\n",
      "\the most noble blood of all this world. I do beseech ye, if y\n"
     ]
    }
   ],
   "source": [
    "# Check that sentences in in same index of different batches complete each other.\n",
    "k = random.randrange(batch_size)\n",
    "for j, (X, y) in enumerate(dl_corpus,):\n",
    "    print(f'=== batch {j}, sample {k} ({X[k].shape}): ===')\n",
    "    s = re.sub(r'\\s+', ' ', unembed(X[k])).strip()\n",
    "    print(f'\\t{s}')\n",
    "    if j==4: break"
   ]
  },
  {
   "cell_type": "markdown",
   "metadata": {
    "id": "ZWPHLdSx5swD"
   },
   "source": [
    "### Model Implementation\n",
    "<a id=part1_5></a>"
   ]
  },
  {
   "cell_type": "markdown",
   "metadata": {
    "id": "6oxPJq3T5swE"
   },
   "source": [
    "Finally, our data set is ready so we can focus on our model.\n",
    "\n",
    "We'll implement here is a multilayer gated recurrent unit (GRU) model, with dropout.\n",
    "This model is a type of RNN which performs similar to the well-known LSTM model,\n",
    "but it's somewhat easier to train because it has less parameters.\n",
    "We'll modify the regular GRU slightly by applying dropout to\n",
    "the hidden states passed between layers of the model.\n",
    "\n",
    "The model accepts an input $\\mat{X}\\in\\set{R}^{S\\times V}$ containing a sequence of embedded chars.\n",
    "It returns an output $\\mat{Y}\\in\\set{R}^{S\\times V}$ of predictions for the next char and the final hidden state\n",
    "$\\mat{H}\\in\\set{R}^{L\\times H}$. Here $S$ is the sequence length, $V$ is the vocabulary size (number of unique chars), $L$ is the number of layers in the model and $H$ is the hidden dimension."
   ]
  },
  {
   "cell_type": "markdown",
   "metadata": {
    "id": "NuUzwIwK5swE"
   },
   "source": [
    "Mathematically, the model's forward function at layer $k\\in[1,L]$ and timestep $t\\in[1,S]$ can be described as\n",
    "\n",
    "$$\n",
    "\\begin{align}\n",
    "\\vec{z_t}^{[k]} &= \\sigma\\left(\\vec{x}^{[k]}_t {\\mattr{W}_{\\mathrm{xz}}}^{[k]} +\n",
    "    \\vec{h}_{t-1}^{[k]} {\\mattr{W}_{\\mathrm{hz}}}^{[k]} + \\vec{b}_{\\mathrm{z}}^{[k]}\\right) \\\\\n",
    "\\vec{r_t}^{[k]} &= \\sigma\\left(\\vec{x}^{[k]}_t {\\mattr{W}_{\\mathrm{xr}}}^{[k]} +\n",
    "    \\vec{h}_{t-1}^{[k]} {\\mattr{W}_{\\mathrm{hr}}}^{[k]} + \\vec{b}_{\\mathrm{r}}^{[k]}\\right) \\\\\n",
    "\\vec{g_t}^{[k]} &= \\tanh\\left(\\vec{x}^{[k]}_t {\\mattr{W}_{\\mathrm{xg}}}^{[k]} +\n",
    "    (\\vec{r_t}^{[k]}\\odot\\vec{h}_{t-1}^{[k]}) {\\mattr{W}_{\\mathrm{hg}}}^{[k]} + \\vec{b}_{\\mathrm{g}}^{[k]}\\right) \\\\\n",
    "\\vec{h_t}^{[k]} &= \\vec{z}^{[k]}_t \\odot \\vec{h}^{[k]}_{t-1} + \\left(1-\\vec{z}^{[k]}_t\\right)\\odot \\vec{g_t}^{[k]}\n",
    "\\end{align}\n",
    "$$"
   ]
  },
  {
   "cell_type": "markdown",
   "metadata": {
    "id": "reYqzliL5swF"
   },
   "source": [
    "The input to each layer is,\n",
    "$$\n",
    "\\mat{X}^{[k]} =\n",
    "\\begin{bmatrix}\n",
    "    {\\vec{x}_1}^{[k]} \\\\ \\vdots \\\\ {\\vec{x}_S}^{[k]}\n",
    "\\end{bmatrix} \n",
    "=\n",
    "\\begin{cases}\n",
    "    \\mat{X} & \\mathrm{if} ~k = 1~ \\\\\n",
    "    \\mathrm{dropout}_p \\left(\n",
    "    \\begin{bmatrix}\n",
    "        {\\vec{h}_1}^{[k-1]} \\\\ \\vdots \\\\ {\\vec{h}_S}^{[k-1]}\n",
    "    \\end{bmatrix} \\right) & \\mathrm{if} ~1 < k \\leq L+1~\n",
    "\\end{cases}.\n",
    "$$"
   ]
  },
  {
   "cell_type": "markdown",
   "metadata": {
    "id": "u00JdAIY5swF"
   },
   "source": [
    "The output of the entire model is then,\n",
    "$$\n",
    "\\mat{Y} = \\mat{X}^{[L+1]} {\\mattr{W}_{\\mathrm{hy}}} + \\mat{B}_{\\mathrm{y}}\n",
    "$$"
   ]
  },
  {
   "cell_type": "markdown",
   "metadata": {
    "id": "sEbkBxRG5swF"
   },
   "source": [
    "and the final hidden state is\n",
    "$$\n",
    "\\mat{H} = \n",
    "\\begin{bmatrix}\n",
    "    {\\vec{h}_S}^{[1]} \\\\ \\vdots \\\\ {\\vec{h}_S}^{[L]}\n",
    "\\end{bmatrix}.\n",
    "$$"
   ]
  },
  {
   "cell_type": "markdown",
   "metadata": {
    "id": "FisjEKaC5swG"
   },
   "source": [
    "Notes:\n",
    "- $t\\in[1,S]$ is the timestep, i.e. the current position within the sequence of each sample.\n",
    "- $\\vec{x}_t^{[k]}$ is the input of layer $k$ at timestep $t$, respectively.\n",
    "- The outputs of the **last layer** $\\vec{y}_t^{[L]}$, are the predicted next characters for every input char.\n",
    "  These are similar to class scores in classification tasks.\n",
    "- The hidden states at the **last timestep**, $\\vec{h}_S^{[k]}$, are the final hidden state returned from the model.\n",
    "- $\\sigma(\\cdot)$ is the sigmoid function, i.e. $\\sigma(\\vec{z}) = 1/(1+e^{-\\vec{z}})$ which returns values in $(0,1)$.\n",
    "- $\\tanh(\\cdot)$ is the hyperbolic tangent, i.e. $\\tanh(\\vec{z}) = (e^{2\\vec{z}}-1)/(e^{2\\vec{z}}+1)$ which returns values in $(-1,1)$.\n",
    "- $\\vec{h_t}^{[k]}$ is the hidden state of layer $k$ at time $t$. This can be thought of as the memory of that layer.\n",
    "- $\\vec{g_t}^{[k]}$ is the candidate hidden state for time $t+1$.\n",
    "- $\\vec{z_t}^{[k]}$ is known as the update gate. It combines the previous state with the input to determine how much the current state will be combined with the new candidate state. For example, if $\\vec{z_t}^{[k]}=\\vec{1}$ then the current input has no effect on the output.\n",
    "- $\\vec{r_t}^{[k]}$ is known as the reset gate. It combines the previous state with the input to determine how much of the previous state will affect the current state candidate. For example if $\\vec{r_t}^{[k]}=\\vec{0}$ the previous state has no effect on the current candidate state."
   ]
  },
  {
   "cell_type": "markdown",
   "metadata": {
    "id": "Xdd8X6Vs5swG"
   },
   "source": [
    "Here's a graphical representation of the GRU's forward pass at each timestep. The $\\vec{\\tilde{h}}$ in the image is our $\\vec{g}$ (candidate next state).\n",
    "\n",
    "<img src=\"imgs/gru_cell.png\" width=\"400\"/>\n",
    "\n",
    "You can see how the reset and update gates allow the model to completely ignore it's previous state, completely ignore it's input, or any mixture of those states (since the gates are actually continuous and between $(0,1)$)."
   ]
  },
  {
   "cell_type": "markdown",
   "metadata": {
    "id": "QxPyhaLc5swG"
   },
   "source": [
    "Here's a graphical representation of the entire model.\n",
    "You can ignore the $c_t^{[k]}$ (cell state) variables (which are relevant for LSTM models).\n",
    "Our model has only the hidden state, $h_t^{[k]}$. Also notice that we added dropout between layers (i.e., on the up arrows).\n",
    "\n",
    "<img src=\"imgs/lstm_model.png\" />\n",
    "\n",
    "The purple tensors are inputs (a sequence and initial hidden state per layer), and the green tensors are outputs (another sequence and final hidden state per layer). Each blue block implements the above forward equations.\n",
    "Blocks that are on the same vertical level are at the same layer, and therefore share parameters."
   ]
  },
  {
   "cell_type": "markdown",
   "metadata": {
    "id": "ibhALG3O5swH"
   },
   "source": [
    "**TODO**: Implement the `MultilayerGRU` class in the `hw3/charnn.py` module.\n",
    "\n",
    "Notes:\n",
    "- You'll need to handle input **batches** now.\n",
    "  The math is identical to the above, but all the tensors will have an extra batch\n",
    "  dimension as their first dimension.\n",
    "- Use the diagram above to help guide your implementation.\n",
    "  It will help you visualize what shapes to returns where, etc.\n"
   ]
  },
  {
   "cell_type": "code",
   "execution_count": 17,
   "metadata": {
    "colab": {
     "base_uri": "https://localhost:8080/"
    },
    "execution": {
     "iopub.execute_input": "2021-01-22T10:38:31.974665Z",
     "iopub.status.busy": "2021-01-22T10:38:31.974161Z",
     "iopub.status.idle": "2021-01-22T10:38:32.111658Z",
     "shell.execute_reply": "2021-01-22T10:38:32.112174Z"
    },
    "executionInfo": {
     "elapsed": 6,
     "status": "ok",
     "timestamp": 1640447854470,
     "user": {
      "displayName": "Dana Gorovici",
      "photoUrl": "https://lh3.googleusercontent.com/a/default-user=s64",
      "userId": "03883066315521848737"
     },
     "user_tz": -120
    },
    "id": "PIkOlLZz5swH",
    "outputId": "d832e314-7d04-431c-fd10-202c032e70e2"
   },
   "outputs": [
    {
     "name": "stdout",
     "output_type": "stream",
     "text": [
      "MultilayerGRU(\n",
      "  (sigmoid): Sigmoid()\n",
      "  (tanh): Tanh()\n",
      "  (layer 0_xz): Linear(in_features=78, out_features=256, bias=True)\n",
      "  (layer 0_hz): Linear(in_features=256, out_features=256, bias=False)\n",
      "  (layer 0_xr): Linear(in_features=78, out_features=256, bias=True)\n",
      "  (layer 0_hr): Linear(in_features=256, out_features=256, bias=False)\n",
      "  (layer 0_xg): Linear(in_features=78, out_features=256, bias=True)\n",
      "  (layer 0_hg): Linear(in_features=256, out_features=256, bias=False)\n",
      "  (layer 1_xz): Linear(in_features=256, out_features=256, bias=True)\n",
      "  (layer 1_hz): Linear(in_features=256, out_features=256, bias=False)\n",
      "  (layer 1_xr): Linear(in_features=256, out_features=256, bias=True)\n",
      "  (layer 1_hr): Linear(in_features=256, out_features=256, bias=False)\n",
      "  (layer 1_xg): Linear(in_features=256, out_features=256, bias=True)\n",
      "  (layer 1_hg): Linear(in_features=256, out_features=256, bias=False)\n",
      "  (layer 2_xz): Linear(in_features=256, out_features=256, bias=True)\n",
      "  (layer 2_hz): Linear(in_features=256, out_features=256, bias=False)\n",
      "  (layer 2_xr): Linear(in_features=256, out_features=256, bias=True)\n",
      "  (layer 2_hr): Linear(in_features=256, out_features=256, bias=False)\n",
      "  (layer 2_xg): Linear(in_features=256, out_features=256, bias=True)\n",
      "  (layer 2_hg): Linear(in_features=256, out_features=256, bias=False)\n",
      "  (hy): Linear(in_features=256, out_features=78, bias=True)\n",
      ")\n",
      "y.shape=torch.Size([32, 64, 78])\n",
      "h.shape=torch.Size([32, 3, 256])\n"
     ]
    }
   ],
   "source": [
    "in_dim = vocab_len\n",
    "h_dim = 256\n",
    "n_layers = 3\n",
    "model = charnn.MultilayerGRU(in_dim, h_dim, out_dim=in_dim, n_layers=n_layers)\n",
    "model = model.to(device)\n",
    "print(model)\n",
    "\n",
    "# Test forward pass\n",
    "y, h = model(x0.to(dtype=torch.float, device=device))\n",
    "print(f'y.shape={y.shape}')\n",
    "print(f'h.shape={h.shape}')\n",
    "\n",
    "test.assertEqual(y.shape, (batch_size, seq_len, vocab_len))\n",
    "test.assertEqual(h.shape, (batch_size, n_layers, h_dim))\n",
    "test.assertEqual(len(list(model.parameters())), 9 * n_layers + 2) "
   ]
  },
  {
   "cell_type": "markdown",
   "metadata": {
    "id": "mBBEwNOG5swH"
   },
   "source": [
    "### Generating text by sampling\n",
    "<a id=part1_6></a>"
   ]
  },
  {
   "cell_type": "markdown",
   "metadata": {
    "id": "Yk9v5u2_5swH"
   },
   "source": [
    "Now that we have a model, we can implement **text generation** based on it.\n",
    "The idea is simple:\n",
    "At each timestep our model receives one char $x_t$ from the input sequence and outputs scores $y_t$\n",
    "for what the next char should be.\n",
    "We'll convert these scores into a probability over each of the possible chars.\n",
    "In other words, for each input char $x_t$ we create a probability distribution for the next char\n",
    "conditioned on the current one and the state of the model (representing all previous inputs):\n",
    "$$p(x_{t+1}|x_t, \\vec{h}_t).$$\n",
    "\n",
    "Once we have such a distribution, we'll sample a char from it.\n",
    "This will be the first char of our generated sequence.\n",
    "Now we can feed this new char into the model, create another distribution, sample the next char and so on.\n",
    "Note that it's crucial to propagate the hidden state when sampling."
   ]
  },
  {
   "cell_type": "markdown",
   "metadata": {
    "id": "LX_mCHol5swI"
   },
   "source": [
    "The important point however is how to create the distribution from the scores.\n",
    "One way, as we saw in previous ML tasks, is to use the softmax function.\n",
    "However, a drawback of softmax is that it can generate very diffuse (more uniform) distributions if the score values are very similar. When sampling, we would prefer to control the distributions and make them less uniform to increase the chance of sampling the char(s) with the highest scores compared to the others.\n",
    "\n",
    "To control the variance of the distribution, a common trick is to add a hyperparameter $T$, known as the \n",
    "*temperature* to the softmax function. The class scores are simply scaled by $T$ before softmax is applied:\n",
    "$$\n",
    "\\mathrm{softmax}_T(\\vec{y}) = \\frac{e^{\\vec{y}/T}}{\\sum_k e^{y_k/T}}\n",
    "$$\n",
    "\n",
    "A low $T$ will result in less uniform distributions and vice-versa."
   ]
  },
  {
   "cell_type": "markdown",
   "metadata": {
    "id": "pvpT-AcJ5swI"
   },
   "source": [
    "**TODO**: Implement the `hot_softmax()` function in the `hw3/charnn.py` module."
   ]
  },
  {
   "cell_type": "code",
   "execution_count": 18,
   "metadata": {
    "colab": {
     "base_uri": "https://localhost:8080/",
     "height": 304
    },
    "execution": {
     "iopub.execute_input": "2021-01-22T10:38:32.116816Z",
     "iopub.status.busy": "2021-01-22T10:38:32.116191Z",
     "iopub.status.idle": "2021-01-22T10:38:32.573326Z",
     "shell.execute_reply": "2021-01-22T10:38:32.573897Z"
    },
    "executionInfo": {
     "elapsed": 1441,
     "status": "ok",
     "timestamp": 1640447855907,
     "user": {
      "displayName": "Dana Gorovici",
      "photoUrl": "https://lh3.googleusercontent.com/a/default-user=s64",
      "userId": "03883066315521848737"
     },
     "user_tz": -120
    },
    "id": "5RLrwxqI5swI",
    "outputId": "91f5fc77-baec-478f-ef05-9140fbbfe3d6"
   },
   "outputs": [
    {
     "data": {
      "image/png": "[encoded data removed]",
      "text/plain": [
       "<Figure size 1080x360 with 1 Axes>"
      ]
     },
     "metadata": {
      "needs_background": "light"
     },
     "output_type": "display_data"
    }
   ],
   "source": [
    "scores = y[0,0,:].detach()\n",
    "_, ax = plt.subplots(figsize=(15,5))\n",
    "\n",
    "for t in reversed([0.3, 0.5, 1.0, 100]):\n",
    "    ax.plot(charnn.hot_softmax(scores, temperature=t).cpu().numpy(), label=f'T={t}')\n",
    "ax.set_xlabel('$x_{t+1}$')\n",
    "ax.set_ylabel('$p(x_{t+1}|x_t)$')\n",
    "ax.legend()\n",
    "\n",
    "uniform_proba = 1/len(char_to_idx)\n",
    "uniform_diff = torch.abs(charnn.hot_softmax(scores, temperature=100) - uniform_proba)\n",
    "test.assertTrue(torch.all(uniform_diff < 1e-4))"
   ]
  },
  {
   "cell_type": "markdown",
   "metadata": {
    "id": "RVvNVshM5swI"
   },
   "source": [
    "**TODO**: Implement the `generate_from_model()` function in the `hw3/charnn.py` module."
   ]
  },
  {
   "cell_type": "code",
   "execution_count": 19,
   "metadata": {
    "colab": {
     "base_uri": "https://localhost:8080/"
    },
    "execution": {
     "iopub.execute_input": "2021-01-22T10:38:32.577374Z",
     "iopub.status.busy": "2021-01-22T10:38:32.576891Z",
     "iopub.status.idle": "2021-01-22T10:38:32.723962Z",
     "shell.execute_reply": "2021-01-22T10:38:32.724483Z"
    },
    "executionInfo": {
     "elapsed": 12,
     "status": "ok",
     "timestamp": 1640447855908,
     "user": {
      "displayName": "Dana Gorovici",
      "photoUrl": "https://lh3.googleusercontent.com/a/default-user=s64",
      "userId": "03883066315521848737"
     },
     "user_tz": -120
    },
    "id": "Ap4_leGC5swI",
    "outputId": "ff108798-627b-49b4-b1f3-b784bf62bbf2"
   },
   "outputs": [
    {
     "name": "stdout",
     "output_type": "stream",
     "text": [
      "foobar:DYB[MNVMiW1K(1sFi[iGPpsEYaXN21t(k[WDFOK[u(c\n",
      "foobarlU1[K5tV0DYKK,bx]Yj&vbVh-iRY3;M]0;Uu1:aC\n",
      "Pa&\n",
      "foobarOi.b?S7]iVakY9!u-NYDPD29!\"bK-DkDS[bhCK\n",
      "kg&dU\n"
     ]
    }
   ],
   "source": [
    "for _ in range(3):\n",
    "    text = charnn.generate_from_model(model, \"foobar\", 50, (char_to_idx, idx_to_char), T=0.5)\n",
    "    print(text)\n",
    "    test.assertEqual(len(text), 50)"
   ]
  },
  {
   "cell_type": "markdown",
   "metadata": {
    "id": "AVqGTdQG5swI"
   },
   "source": [
    "### Training\n",
    "<a id=part1_7></a>"
   ]
  },
  {
   "cell_type": "markdown",
   "metadata": {
    "id": "cilVCscm5swJ"
   },
   "source": [
    "To train this model, we'll calculate the loss at each time step by comparing the predicted char to\n",
    "the actual char from our label. We can use cross entropy since per char it's similar to a classification problem.\n",
    "We'll then sum the losses over the sequence and back-propagate the gradients though time.\n",
    "Notice that the back-propagation algorithm will \"visit\" each layer's parameter tensors multiple times,\n",
    "so we'll accumulate gradients in parameters of the blocks. Luckily `autograd` will handle this part for us."
   ]
  },
  {
   "cell_type": "markdown",
   "metadata": {
    "id": "AwyAnGMu5swJ"
   },
   "source": [
    "As usual, the first step of training will be to try and **overfit** a large model (many parameters) to a tiny dataset.\n",
    "Again, this is to ensure the model and training code are implemented correctly, i.e. that the model can learn.\n",
    "\n",
    "For a generative model such as this, overfitting is slightly trickier than for classification.\n",
    "What we'll aim to do is to get our model to **memorize** a specific sequence of chars, so that when given the first\n",
    "char in the sequence it will immediately spit out the rest of the sequence verbatim.\n",
    "\n",
    "Let's create a tiny dataset to memorize."
   ]
  },
  {
   "cell_type": "code",
   "execution_count": 20,
   "metadata": {
    "colab": {
     "base_uri": "https://localhost:8080/"
    },
    "execution": {
     "iopub.execute_input": "2021-01-22T10:38:32.728841Z",
     "iopub.status.busy": "2021-01-22T10:38:32.728207Z",
     "iopub.status.idle": "2021-01-22T10:38:32.749316Z",
     "shell.execute_reply": "2021-01-22T10:38:32.749827Z"
    },
    "executionInfo": {
     "elapsed": 8,
     "status": "ok",
     "timestamp": 1640447855909,
     "user": {
      "displayName": "Dana Gorovici",
      "photoUrl": "https://lh3.googleusercontent.com/a/default-user=s64",
      "userId": "03883066315521848737"
     },
     "user_tz": -120
    },
    "id": "q72mqWds5swJ",
    "outputId": "32ef3800-e428-4ad7-93ac-8cb4083961af"
   },
   "outputs": [
    {
     "name": "stdout",
     "output_type": "stream",
     "text": [
      "Text to \"memorize\":\n",
      "\n",
      "TRAM. What would you have?\n",
      "  HELENA. Something; and scarce so much; nothing, indeed.\n",
      "    I would not tell you what I would, my lord.\n",
      "    Faith, yes:\n",
      "    Strangers and foes do sunder and not kiss.\n",
      "  BERTRAM. I pray you, stay not, but in haste to horse.\n",
      "  HE\n"
     ]
    }
   ],
   "source": [
    "# Pick a tiny subset of the dataset\n",
    "subset_start, subset_end = 1001, 1005\n",
    "ds_corpus_ss = torch.utils.data.Subset(ds_corpus, range(subset_start, subset_end))\n",
    "batch_size_ss = 1\n",
    "sampler_ss = SequenceBatchSampler(ds_corpus_ss, batch_size=batch_size_ss)\n",
    "dl_corpus_ss = torch.utils.data.DataLoader(ds_corpus_ss, batch_size_ss, sampler=sampler_ss, shuffle=False)\n",
    "\n",
    "# Convert subset to text\n",
    "subset_text = ''\n",
    "for i in range(subset_end - subset_start):\n",
    "    subset_text += unembed(ds_corpus_ss[i][0])\n",
    "print(f'Text to \"memorize\":\\n\\n{subset_text}')"
   ]
  },
  {
   "cell_type": "markdown",
   "metadata": {
    "id": "jYfOpiyK5swJ"
   },
   "source": [
    "Now let's implement the first part of our training code.\n",
    "\n",
    "**TODO**: Implement the `train_epoch()` and `train_batch()` methods of the `RNNTrainer` class in the `hw3/training.py` module. \n",
    "You must think about how to correctly handle the hidden state of the model between batches and epochs for this specific task (i.e. text generation)."
   ]
  },
  {
   "cell_type": "code",
   "execution_count": 21,
   "metadata": {
    "colab": {
     "base_uri": "https://localhost:8080/"
    },
    "execution": {
     "iopub.execute_input": "2021-01-22T10:38:32.755307Z",
     "iopub.status.busy": "2021-01-22T10:38:32.754708Z",
     "iopub.status.idle": "2021-01-22T10:38:49.406250Z",
     "shell.execute_reply": "2021-01-22T10:38:49.406879Z"
    },
    "executionInfo": {
     "elapsed": 49920,
     "status": "ok",
     "timestamp": 1640447905824,
     "user": {
      "displayName": "Dana Gorovici",
      "photoUrl": "https://lh3.googleusercontent.com/a/default-user=s64",
      "userId": "03883066315521848737"
     },
     "user_tz": -120
    },
    "id": "mbO6nmi95swJ",
    "outputId": "f74e80e9-8dfa-4b2d-a94f-ee1fe2878288"
   },
   "outputs": [
    {
     "name": "stdout",
     "output_type": "stream",
     "text": [
      "\n",
      "Epoch #1: Avg. loss = 3.744, Accuracy = 17.58%\n",
      "T                                                                                                                                                                                                                                                               \n",
      "\n",
      "Epoch #25: Avg. loss = 3.118, Accuracy = 22.27%\n",
      "TR                                                                                                                                                                                                                                                              \n",
      "\n",
      "Epoch #50: Avg. loss = 2.433, Accuracy = 33.20%\n",
      "TRAM.                                                                                                                                                                                                                                                           \n",
      "\n",
      "Epoch #75: Avg. loss = 1.094, Accuracy = 71.09%\n",
      "TRAM. What would not ingess    would not ind you   and you   and nothingess     and nothing; and you   and not ind you   and you     ld not ind you   and you     and you   and you     and you     and you     and you     and you   and you     and you     an\n",
      "\n",
      "Epoch #100: Avg. loss = 0.323, Accuracy = 94.14%\n",
      "TRAM. What would not ind.\n",
      "    what would not in haste so muso   and so so hors    and not in haste so hors    and not in haste to horse.\n",
      "    I I pr and not in haste to so sous and sunder   and not in haste to so sous and sund foes    and not in haste to so\n",
      "\n",
      "Epoch #125: Avg. loss = 0.061, Accuracy = 100.00%\n",
      "TRAM. What would you have?\n",
      "  HELENA. Something; and scarce so much; nothing, indeed.\n",
      "    I would not tell you what I would, my lord.\n",
      "    Faith, yes:\n",
      "    Strangers and foes do sunder and not kiss.\n",
      "  BERTRAM. I pray you, stay not, but in haste to horse.\n",
      "  HE\n"
     ]
    }
   ],
   "source": [
    "import torch.nn as nn\n",
    "import torch.optim as optim\n",
    "from hw3.training import RNNTrainer\n",
    "\n",
    "torch.manual_seed(42)\n",
    "\n",
    "lr = 0.01\n",
    "num_epochs = 500\n",
    "\n",
    "in_dim = vocab_len\n",
    "h_dim = 128\n",
    "n_layers = 2\n",
    "loss_fn = nn.CrossEntropyLoss()\n",
    "model = charnn.MultilayerGRU(in_dim, h_dim, out_dim=in_dim, n_layers=n_layers).to(device)\n",
    "optimizer = optim.Adam(model.parameters(), lr=lr)\n",
    "trainer = RNNTrainer(model, loss_fn, optimizer, device)\n",
    "\n",
    "for epoch in range(num_epochs):\n",
    "    epoch_result = trainer.train_epoch(dl_corpus_ss, verbose=False)\n",
    "    \n",
    "    # Every X epochs, we'll generate a sequence starting from the first char in the first sequence\n",
    "    # to visualize how/if/what the model is learning.\n",
    "    if epoch == 0 or (epoch+1) % 25 == 0:\n",
    "        avg_loss = np.mean(epoch_result.losses)\n",
    "        accuracy = np.mean(epoch_result.accuracy)\n",
    "        print(f'\\nEpoch #{epoch+1}: Avg. loss = {avg_loss:.3f}, Accuracy = {accuracy:.2f}%')\n",
    "        \n",
    "        generated_sequence = charnn.generate_from_model(model, subset_text[0],\n",
    "                                                        seq_len*(subset_end-subset_start),\n",
    "                                                        (char_to_idx,idx_to_char), T=0.1)\n",
    "        \n",
    "        # Stop if we've successfully memorized the small dataset.\n",
    "        print(generated_sequence)\n",
    "        if generated_sequence == subset_text:\n",
    "            break\n",
    "\n",
    "# Test successful overfitting\n",
    "test.assertGreater(epoch_result.accuracy, 99)\n",
    "test.assertEqual(generated_sequence, subset_text)"
   ]
  },
  {
   "cell_type": "markdown",
   "metadata": {
    "id": "Cn49UtbF5swK"
   },
   "source": [
    "OK, so training works - we can memorize a short sequence.\n",
    "We'll now train a much larger model on our large dataset. You'll need a GPU for this part.\n",
    "\n",
    "First, lets set up our dataset and models for training.\n",
    "We'll split our corpus into 90% train and 10% test-set.\n",
    "Also, we'll use a learning-rate scheduler to control the learning rate during training."
   ]
  },
  {
   "cell_type": "markdown",
   "metadata": {
    "id": "igYSSIpf5swK"
   },
   "source": [
    "**TODO**: Set the hyperparameters in the `part1_rnn_hyperparams()` function of the `hw3/answers.py` module."
   ]
  },
  {
   "cell_type": "code",
   "execution_count": 22,
   "metadata": {
    "colab": {
     "base_uri": "https://localhost:8080/"
    },
    "execution": {
     "iopub.execute_input": "2021-01-22T10:38:49.415265Z",
     "iopub.status.busy": "2021-01-22T10:38:49.414472Z",
     "iopub.status.idle": "2021-01-22T10:38:52.310813Z",
     "shell.execute_reply": "2021-01-22T10:38:52.311410Z"
    },
    "executionInfo": {
     "elapsed": 2623,
     "status": "ok",
     "timestamp": 1640447908442,
     "user": {
      "displayName": "Dana Gorovici",
      "photoUrl": "https://lh3.googleusercontent.com/a/default-user=s64",
      "userId": "03883066315521848737"
     },
     "user_tz": -120
    },
    "id": "pkGsHPn75swK",
    "outputId": "cf0aba90-b3a6-427e-c145-0b5d9fa8e085"
   },
   "outputs": [
    {
     "name": "stdout",
     "output_type": "stream",
     "text": [
      "hyperparams:\n",
      " {'batch_size': 250, 'seq_len': 65, 'h_dim': 1024, 'n_layers': 2, 'dropout': 0.25, 'learn_rate': 0.001, 'lr_sched_factor': 0.9, 'lr_sched_patience': 4}\n",
      "Train: 351 batches, 5703750 chars\n",
      "Test:   39 batches,  633750 chars\n"
     ]
    }
   ],
   "source": [
    "from hw3.answers import part1_rnn_hyperparams\n",
    "\n",
    "hp = part1_rnn_hyperparams()\n",
    "print('hyperparams:\\n', hp)\n",
    "\n",
    "### Dataset definition\n",
    "vocab_len = len(char_to_idx)\n",
    "batch_size = hp['batch_size']\n",
    "seq_len = hp['seq_len']\n",
    "train_test_ratio = 0.9\n",
    "num_samples = (len(corpus) - 1) // seq_len\n",
    "num_train = int(train_test_ratio * num_samples)\n",
    "\n",
    "samples, labels = charnn.chars_to_labelled_samples(corpus, char_to_idx, seq_len, device)\n",
    "\n",
    "ds_train = torch.utils.data.TensorDataset(samples[:num_train], labels[:num_train])\n",
    "sampler_train = SequenceBatchSampler(ds_train, batch_size)\n",
    "dl_train = torch.utils.data.DataLoader(ds_train, batch_size, shuffle=False, sampler=sampler_train, drop_last=True)\n",
    "\n",
    "ds_test = torch.utils.data.TensorDataset(samples[num_train:], labels[num_train:])\n",
    "sampler_test = SequenceBatchSampler(ds_test, batch_size)\n",
    "dl_test = torch.utils.data.DataLoader(ds_test, batch_size, shuffle=False, sampler=sampler_test, drop_last=True)\n",
    "\n",
    "print(f'Train: {len(dl_train):3d} batches, {len(dl_train)*batch_size*seq_len:7d} chars')\n",
    "print(f'Test:  {len(dl_test):3d} batches, {len(dl_test)*batch_size*seq_len:7d} chars')\n",
    "\n",
    "### Training definition\n",
    "in_dim = out_dim = vocab_len\n",
    "checkpoint_file = 'checkpoints/rnn'\n",
    "num_epochs = 50\n",
    "early_stopping = 5\n",
    "\n",
    "model = charnn.MultilayerGRU(in_dim, hp['h_dim'], out_dim, hp['n_layers'], hp['dropout'])\n",
    "loss_fn = nn.CrossEntropyLoss()\n",
    "optimizer = optim.Adam(model.parameters(), lr=hp['learn_rate'])\n",
    "scheduler = optim.lr_scheduler.ReduceLROnPlateau(\n",
    "    optimizer, mode='max', factor=hp['lr_sched_factor'], patience=hp['lr_sched_patience'], verbose=True\n",
    ")\n",
    "trainer = RNNTrainer(model, loss_fn, optimizer, device)"
   ]
  },
  {
   "cell_type": "markdown",
   "metadata": {
    "id": "1VjaIvXw5swK"
   },
   "source": [
    "The code blocks below will train the model and save checkpoints containing the training state and the best model parameters to a file. This allows you to stop training and resume it later from where you left.\n",
    "\n",
    "Note that you can use the `main.py` script provided within the assignment folder to run this notebook from the command line as if it were a python script by using the `run-nb` subcommand. This allows you to train your model using this notebook without starting jupyter. You can combine this with `srun` or `sbatch` to run the notebook with a GPU on the course servers."
   ]
  },
  {
   "cell_type": "markdown",
   "metadata": {
    "id": "TTnBMm_w5swK"
   },
   "source": [
    "**TODO**:\n",
    "- Implement the `fit()` method of the `Trainer` class. You can reuse the relevant implementation parts from HW2, but make sure to implement early stopping and checkpoints.\n",
    "- Implement the `test_epoch()` and `test_batch()` methods of the `RNNTrainer` class in the `hw3/training.py` module.\n",
    "- Run the following block to train.\n",
    "- When training is done and you're satisfied with the model's outputs, rename the checkpoint file to `checkpoints/rnn_final.pt`.\n",
    "  This will cause the block to skip training and instead load your saved model when running the homework submission script.\n",
    "  Note that your submission zip file will not include the checkpoint file. This is OK."
   ]
  },
  {
   "cell_type": "code",
   "execution_count": 23,
   "metadata": {
    "colab": {
     "base_uri": "https://localhost:8080/",
     "height": 1000
    },
    "execution": {
     "iopub.execute_input": "2021-01-22T10:38:52.316848Z",
     "iopub.status.busy": "2021-01-22T10:38:52.316319Z",
     "iopub.status.idle": "2021-01-22T10:38:52.369407Z",
     "shell.execute_reply": "2021-01-22T10:38:52.370084Z"
    },
    "executionInfo": {
     "elapsed": 4252766,
     "status": "ok",
     "timestamp": 1640452161199,
     "user": {
      "displayName": "Dana Gorovici",
      "photoUrl": "https://lh3.googleusercontent.com/a/default-user=s64",
      "userId": "03883066315521848737"
     },
     "user_tz": -120
    },
    "id": "SDg9StPS5swK",
    "outputId": "c07e8532-73d0-4a56-e3ae-29e9026ee731"
   },
   "outputs": [
    {
     "name": "stdout",
     "output_type": "stream",
     "text": [
      "ACT I.9pZRqwuSBp)jr)rps4Up-d4'WyHh uYW&YS0-YbO6h 3QpLIhi0J)M5rEi9C7uO.l)RggCMdhjrrilS)YiLrh; pheuiR6\n",
      "*** Loading checkpoint file checkpoints/rnn.pt\n",
      "--- EPOCH 1/50 ---\n",
      "train_batch (Avg. Loss 1.884, Accuracy 45.0): 100%|██████████| 351/351 [01:21<00:00,  4.31it/s]\n",
      "test_batch (Avg. Loss 2.040, Accuracy 40.6): 100%|██████████| 39/39 [00:02<00:00, 13.20it/s]\n",
      "*** Saved checkpoint checkpoints/rnn.pt at epoch 1\n",
      "ACT I. I will shall the have the pises he love still and to the cance\n",
      "    The dord shere and yet sin\n",
      "--- EPOCH 2/50 ---\n",
      "train_batch (Avg. Loss 1.726, Accuracy 48.9): 100%|██████████| 351/351 [01:21<00:00,  4.31it/s]\n",
      "test_batch (Avg. Loss 1.864, Accuracy 44.8): 100%|██████████| 39/39 [00:02<00:00, 13.21it/s]\n",
      "*** Saved checkpoint checkpoints/rnn.pt at epoch 2\n",
      "ACT I. I hand you a master her sound\n",
      "    Who such to the will of the come of the stranged.\n",
      "         \n",
      "--- EPOCH 3/50 ---\n",
      "train_batch (Avg. Loss 1.598, Accuracy 52.3): 100%|██████████| 351/351 [01:21<00:00,  4.31it/s]\n",
      "test_batch (Avg. Loss 1.744, Accuracy 47.8): 100%|██████████| 39/39 [00:02<00:00, 13.21it/s]\n",
      "*** Saved checkpoint checkpoints/rnn.pt at epoch 3\n",
      "ACT I. A cannot that the man and the died.\n",
      "  Pent. Let the power him all it no monest with the sours\n",
      "--- EPOCH 4/50 ---\n",
      "train_batch (Avg. Loss 1.502, Accuracy 54.9): 100%|██████████| 351/351 [01:21<00:00,  4.31it/s]\n",
      "test_batch (Avg. Loss 1.667, Accuracy 50.1): 100%|██████████| 39/39 [00:02<00:00, 13.21it/s]\n",
      "*** Saved checkpoint checkpoints/rnn.pt at epoch 4\n",
      "ACT I. And all the worst lies should he hath stand\n",
      "From me and fool of the strending lights which of\n",
      "--- EPOCH 5/50 ---\n",
      "train_batch (Avg. Loss 1.434, Accuracy 56.8): 100%|██████████| 351/351 [01:21<00:00,  4.31it/s]\n",
      "test_batch (Avg. Loss 1.625, Accuracy 51.4): 100%|██████████| 39/39 [00:03<00:00, 12.94it/s]\n",
      "*** Saved checkpoint checkpoints/rnn.pt at epoch 5\n",
      "ACT I.\n",
      "Prince. The court, he would not let me meet.\n",
      "\n",
      "    And a pray the loves and heart the change o\n",
      "--- EPOCH 6/50 ---\n",
      "train_batch (Avg. Loss 1.383, Accuracy 58.1): 100%|██████████| 351/351 [01:21<00:00,  4.31it/s]\n",
      "test_batch (Avg. Loss 1.617, Accuracy 51.8): 100%|██████████| 39/39 [00:02<00:00, 13.21it/s]\n",
      "*** Saved checkpoint checkpoints/rnn.pt at epoch 6\n",
      "ACT I. What will the sense of a thing of the\n",
      "     should and the day dear the name of what stands as\n",
      "--- EPOCH 7/50 ---\n",
      "train_batch (Avg. Loss 1.345, Accuracy 59.1): 100%|██████████| 351/351 [01:21<00:00,  4.30it/s]\n",
      "test_batch (Avg. Loss 1.647, Accuracy 52.6): 100%|██████████| 39/39 [00:02<00:00, 13.20it/s]\n",
      "*** Saved checkpoint checkpoints/rnn.pt at epoch 7\n",
      "ACT I. Call thee not on this traitor.\n",
      "                                                              \n",
      "--- EPOCH 8/50 ---\n",
      "train_batch (Avg. Loss 1.314, Accuracy 59.9): 100%|██████████| 351/351 [01:21<00:00,  4.31it/s]\n",
      "test_batch (Avg. Loss 1.637, Accuracy 53.1): 100%|██████████| 39/39 [00:02<00:00, 13.20it/s]\n",
      "*** Saved checkpoint checkpoints/rnn.pt at epoch 8\n",
      "ACT I. The way of Lack, what we have seen your rest.\n",
      "                                               \n",
      "--- EPOCH 9/50 ---\n",
      "train_batch (Avg. Loss 1.290, Accuracy 60.5): 100%|██████████| 351/351 [01:21<00:00,  4.31it/s]\n",
      "test_batch (Avg. Loss 1.585, Accuracy 53.6): 100%|██████████| 39/39 [00:02<00:00, 13.30it/s]\n",
      "*** Saved checkpoint checkpoints/rnn.pt at epoch 9\n",
      "ACT I. I have repair thee set all the sense is\n",
      "                                                     \n",
      "--- EPOCH 10/50 ---\n",
      "train_batch (Avg. Loss 1.270, Accuracy 61.0): 100%|██████████| 351/351 [01:21<00:00,  4.32it/s]\n",
      "test_batch (Avg. Loss 1.594, Accuracy 54.2): 100%|██████████| 39/39 [00:02<00:00, 13.26it/s]\n",
      "*** Saved checkpoint checkpoints/rnn.pt at epoch 10\n",
      "ACT I. I have been a read and life, the true\n",
      "    That we move not the maid of his daughter, and men \n",
      "--- EPOCH 11/50 ---\n",
      "train_batch (Avg. Loss 1.251, Accuracy 61.5): 100%|██████████| 351/351 [01:21<00:00,  4.31it/s]\n",
      "test_batch (Avg. Loss 1.565, Accuracy 54.5): 100%|██████████| 39/39 [00:02<00:00, 13.03it/s]\n",
      "*** Saved checkpoint checkpoints/rnn.pt at epoch 11\n",
      "ACT I. SCENE I.\n",
      "A care of Namber.\n",
      "\n",
      "                                                                 \n",
      "--- EPOCH 12/50 ---\n",
      "train_batch (Avg. Loss 1.236, Accuracy 61.9): 100%|██████████| 351/351 [01:21<00:00,  4.31it/s]\n",
      "test_batch (Avg. Loss 1.555, Accuracy 54.8): 100%|██████████| 39/39 [00:02<00:00, 13.20it/s]\n",
      "*** Saved checkpoint checkpoints/rnn.pt at epoch 12\n",
      "ACT I. SCENE I.\n",
      "\n",
      "A fair service the pocket that he shall have him.\n",
      "\n",
      "Enter HASTINGS, and STEPHANO, an\n",
      "--- EPOCH 13/50 ---\n",
      "train_batch (Avg. Loss 1.222, Accuracy 62.2): 100%|██████████| 351/351 [01:21<00:00,  4.31it/s]\n",
      "test_batch (Avg. Loss 1.550, Accuracy 54.9): 100%|██████████| 39/39 [00:02<00:00, 13.20it/s]\n",
      "*** Saved checkpoint checkpoints/rnn.pt at epoch 13\n",
      "ACT I. SCENE I.\n",
      "The English point of the King the promise\n",
      "                                          \n",
      "--- EPOCH 14/50 ---\n",
      "train_batch (Avg. Loss 1.210, Accuracy 62.5): 100%|██████████| 351/351 [01:21<00:00,  4.31it/s]\n",
      "test_batch (Avg. Loss 1.572, Accuracy 55.1): 100%|██████████| 39/39 [00:02<00:00, 13.22it/s]\n",
      "*** Saved checkpoint checkpoints/rnn.pt at epoch 14\n",
      "ACT I. SCENE I.\n",
      "                                                                                    \n",
      "--- EPOCH 15/50 ---\n",
      "train_batch (Avg. Loss 1.199, Accuracy 62.8): 100%|██████████| 351/351 [01:21<00:00,  4.31it/s]\n",
      "test_batch (Avg. Loss 1.505, Accuracy 55.7): 100%|██████████| 39/39 [00:02<00:00, 13.20it/s]\n",
      "*** Saved checkpoint checkpoints/rnn.pt at epoch 15\n",
      "ACT I. SCENE I.\n",
      "Before the Queen of Autony of Gloucester,\n",
      "                                          \n",
      "--- EPOCH 16/50 ---\n",
      "train_batch (Avg. Loss 1.188, Accuracy 63.1): 100%|██████████| 351/351 [01:21<00:00,  4.30it/s]\n",
      "test_batch (Avg. Loss 1.537, Accuracy 55.5): 100%|██████████| 39/39 [00:02<00:00, 13.19it/s]\n",
      "*** Saved checkpoint checkpoints/rnn.pt at epoch 16\n",
      "ACT I. SCENE I.\n",
      "                                                  Friar English part\n",
      "\n",
      "              \n",
      "--- EPOCH 17/50 ---\n",
      "train_batch (Avg. Loss 1.179, Accuracy 63.3): 100%|██████████| 351/351 [01:21<00:00,  4.30it/s]\n",
      "test_batch (Avg. Loss 1.477, Accuracy 55.8): 100%|██████████| 39/39 [00:03<00:00, 12.98it/s]\n",
      "*** Saved checkpoint checkpoints/rnn.pt at epoch 17\n",
      "ACT I. SCENE I.\n",
      "A noble house of the King, the castle of Wales.\n",
      "\n",
      "  LADY MACBETH. I have lost the mat\n",
      "--- EPOCH 18/50 ---\n",
      "train_batch (Avg. Loss 1.171, Accuracy 63.5): 100%|██████████| 351/351 [01:21<00:00,  4.30it/s]\n",
      "test_batch (Avg. Loss 1.558, Accuracy 55.8): 100%|██████████| 39/39 [00:02<00:00, 13.20it/s]\n",
      "*** Saved checkpoint checkpoints/rnn.pt at epoch 18\n",
      "ACT I. SCENE I.\n",
      "But the King and England and the God.\n",
      "\n",
      "  LADY MACBETH. This is the Duke of Saint Alb\n",
      "--- EPOCH 19/50 ---\n",
      "train_batch (Avg. Loss 1.162, Accuracy 63.7): 100%|██████████| 351/351 [01:21<00:00,  4.30it/s]\n",
      "test_batch (Avg. Loss 1.590, Accuracy 55.5): 100%|██████████| 39/39 [00:02<00:00, 13.21it/s]\n",
      "*** Saved checkpoint checkpoints/rnn.pt at epoch 19\n",
      "ACT I. Silvia, I will look to this my brother.\n",
      "    Here comes the mainsame of the name; but the cons\n",
      "--- EPOCH 20/50 ---\n",
      "train_batch (Avg. Loss 1.154, Accuracy 63.9): 100%|██████████| 351/351 [01:21<00:00,  4.30it/s]\n",
      "test_batch (Avg. Loss 1.571, Accuracy 55.8): 100%|██████████| 39/39 [00:02<00:00, 13.19it/s]\n",
      "*** Saved checkpoint checkpoints/rnn.pt at epoch 20\n",
      "ACT I. SCENE I.\n",
      "                                                                                    \n",
      "--- EPOCH 21/50 ---\n",
      "train_batch (Avg. Loss 1.145, Accuracy 64.1): 100%|██████████| 351/351 [01:21<00:00,  4.30it/s]\n",
      "test_batch (Avg. Loss 1.527, Accuracy 56.1): 100%|██████████| 39/39 [00:02<00:00, 13.17it/s]\n",
      "*** Saved checkpoint checkpoints/rnn.pt at epoch 21\n",
      "ACT I. I do not live,\n",
      "    The grief of our own score with such a dear purse\n",
      "    You love it from the\n",
      "--- EPOCH 22/50 ---\n",
      "train_batch (Avg. Loss 1.137, Accuracy 64.3): 100%|██████████| 351/351 [01:21<00:00,  4.30it/s]\n",
      "test_batch (Avg. Loss 1.516, Accuracy 56.2): 100%|██████████| 39/39 [00:02<00:00, 13.19it/s]\n",
      "*** Saved checkpoint checkpoints/rnn.pt at epoch 22\n",
      "ACT I. SCENE I.\n",
      "Beauto's heart.\n",
      "\n",
      "First Senator. A gentleman with the Duke of Gloucester,\n",
      "And a Messe\n",
      "--- EPOCH 23/50 ---\n",
      "train_batch (Avg. Loss 1.131, Accuracy 64.5): 100%|██████████| 351/351 [01:21<00:00,  4.30it/s]\n",
      "test_batch (Avg. Loss 1.538, Accuracy 56.3): 100%|██████████| 39/39 [00:02<00:00, 13.17it/s]\n",
      "*** Saved checkpoint checkpoints/rnn.pt at epoch 23\n",
      "ACT I. She hath a warrant of the state of the ring,\n",
      "    To think it desire to some service that coul\n",
      "--- EPOCH 24/50 ---\n",
      "train_batch (Avg. Loss 1.124, Accuracy 64.7): 100%|██████████| 351/351 [01:21<00:00,  4.30it/s]\n",
      "test_batch (Avg. Loss 1.483, Accuracy 56.7): 100%|██████████| 39/39 [00:02<00:00, 13.18it/s]\n",
      "*** Saved checkpoint checkpoints/rnn.pt at epoch 24\n",
      "ACT I. SCENE 1.\n",
      "\n",
      "London. The King and QUEEN ELIZABETH and ANNE LORDS\n",
      "\n",
      "  KING HENRY. What story shall\n",
      "--- EPOCH 25/50 ---\n",
      "train_batch (Avg. Loss 1.118, Accuracy 64.8): 100%|██████████| 351/351 [01:21<00:00,  4.30it/s]\n",
      "test_batch (Avg. Loss 1.507, Accuracy 56.4): 100%|██████████| 39/39 [00:02<00:00, 13.17it/s]\n",
      "*** Saved checkpoint checkpoints/rnn.pt at epoch 25\n",
      "ACT I. SCENE 4.\n",
      "\n",
      "First Servingman.\n",
      "\n",
      "Enter Petruchio, and Soldiers, Calliamian, and Mistress Mayor, I\n",
      "--- EPOCH 26/50 ---\n",
      "train_batch (Avg. Loss 1.113, Accuracy 65.0): 100%|██████████| 351/351 [01:21<00:00,  4.30it/s]\n",
      "test_batch (Avg. Loss 1.452, Accuracy 56.8): 100%|██████████| 39/39 [00:02<00:00, 13.19it/s]\n",
      "*** Saved checkpoint checkpoints/rnn.pt at epoch 26\n",
      "ACT I. SCENE I.\n",
      "Sicilia. The English palace of France\n",
      "The KING and Dunseal, the King\n",
      "\n",
      "Enter CLARENCE\n",
      "--- EPOCH 27/50 ---\n",
      "train_batch (Avg. Loss 1.107, Accuracy 65.1): 100%|██████████| 351/351 [01:21<00:00,  4.30it/s]\n",
      "test_batch (Avg. Loss 1.562, Accuracy 56.3): 100%|██████████| 39/39 [00:02<00:00, 13.14it/s]\n",
      "*** Saved checkpoint checkpoints/rnn.pt at epoch 27\n",
      "ACT I. SCENE I.\n",
      "                                                                                    \n",
      "--- EPOCH 28/50 ---\n",
      "train_batch (Avg. Loss 1.101, Accuracy 65.3): 100%|██████████| 351/351 [01:21<00:00,  4.30it/s]\n",
      "test_batch (Avg. Loss 1.544, Accuracy 56.5): 100%|██████████| 39/39 [00:02<00:00, 13.19it/s]\n",
      "*** Saved checkpoint checkpoints/rnn.pt at epoch 28\n",
      "ACT I. So I am a poor witch. He would have learned here.\n",
      "                                           \n",
      "--- EPOCH 29/50 ---\n",
      "train_batch (Avg. Loss 1.096, Accuracy 65.4): 100%|██████████| 351/351 [01:21<00:00,  4.30it/s]\n",
      "test_batch (Avg. Loss 1.490, Accuracy 56.8): 100%|██████████| 39/39 [00:02<00:00, 13.18it/s]\n",
      "*** Saved checkpoint checkpoints/rnn.pt at epoch 29\n",
      "ACT I. Shall I think there's no more than the devil be bound\n",
      "    To see thee to a compass of this ha\n",
      "--- EPOCH 30/50 ---\n",
      "train_batch (Avg. Loss 1.090, Accuracy 65.6): 100%|██████████| 351/351 [01:21<00:00,  4.30it/s]\n",
      "test_batch (Avg. Loss 1.481, Accuracy 56.9): 100%|██████████| 39/39 [00:02<00:00, 13.09it/s]\n",
      "*** Saved checkpoint checkpoints/rnn.pt at epoch 30\n",
      "ACT I. SCENE I.\n",
      "The DUKE OF YORK\n",
      "\n",
      "by William Shakespeare\n",
      "\n",
      "Dull and Attendants.\n",
      "\n",
      "THE END\n",
      "\n",
      "1591\n",
      "\n",
      "THE T\n",
      "--- EPOCH 31/50 ---\n",
      "train_batch (Avg. Loss 1.085, Accuracy 65.7): 100%|██████████| 351/351 [01:21<00:00,  4.30it/s]\n",
      "test_batch (Avg. Loss 1.519, Accuracy 56.6): 100%|██████████| 39/39 [00:02<00:00, 13.20it/s]\n",
      "*** Saved checkpoint checkpoints/rnn.pt at epoch 31\n",
      "ACT I. She says the gods be black and hang with this.\n",
      "                                              \n",
      "--- EPOCH 32/50 ---\n",
      "train_batch (Avg. Loss 1.081, Accuracy 65.8): 100%|██████████| 351/351 [01:21<00:00,  4.30it/s]\n",
      "test_batch (Avg. Loss 1.483, Accuracy 56.9): 100%|██████████| 39/39 [00:02<00:00, 13.21it/s]\n",
      "*** Saved checkpoint checkpoints/rnn.pt at epoch 32\n",
      "ACT I. She comes the love of men.\n",
      "  FALSTAFF. Why, that shall the people will not come.\n",
      "  KING RICHA\n",
      "--- EPOCH 33/50 ---\n",
      "train_batch (Avg. Loss 1.077, Accuracy 65.9): 100%|██████████| 351/351 [01:21<00:00,  4.30it/s]\n",
      "test_batch (Avg. Loss 1.532, Accuracy 56.9): 100%|██████████| 39/39 [00:02<00:00, 13.19it/s]\n",
      "*** Saved checkpoint checkpoints/rnn.pt at epoch 33\n",
      "ACT I. SCENE I.\n",
      "                                                                                    \n",
      "--- EPOCH 34/50 ---\n",
      "train_batch (Avg. Loss 1.072, Accuracy 66.1): 100%|██████████| 351/351 [01:21<00:00,  4.30it/s]\n",
      "test_batch (Avg. Loss 1.465, Accuracy 57.2): 100%|██████████| 39/39 [00:02<00:00, 13.20it/s]\n",
      "*** Saved checkpoint checkpoints/rnn.pt at epoch 34\n",
      "ACT I. Scene I and Servants and Soldiers\n",
      "  QUEEN ELIZABETH. Let me hear the truth.\n",
      "  BEROWNE. Why, t\n",
      "--- EPOCH 35/50 ---\n",
      "train_batch (Avg. Loss 1.068, Accuracy 66.2): 100%|██████████| 351/351 [01:21<00:00,  4.30it/s]\n",
      "test_batch (Avg. Loss 1.500, Accuracy 57.2): 100%|██████████| 39/39 [00:02<00:00, 13.20it/s]\n",
      "*** Saved checkpoint checkpoints/rnn.pt at epoch 35\n",
      "ACT I. Scene I.\n",
      "\n",
      "                                    Enter PRINCE JOHN\n",
      "\n",
      "  BARDOLPH. A palace and the\n",
      "--- EPOCH 36/50 ---\n",
      "train_batch (Avg. Loss 1.063, Accuracy 66.3): 100%|██████████| 351/351 [01:21<00:00,  4.30it/s]\n",
      "test_batch (Avg. Loss 1.454, Accuracy 57.4): 100%|██████████| 39/39 [00:02<00:00, 13.19it/s]\n",
      "*** Saved checkpoint checkpoints/rnn.pt at epoch 36\n",
      "ACT I. SCENE I.\n",
      "The soldiers of the King.\n",
      "\n",
      "Enter Talbot with AUTOLYCUS and SECOND WITCH and POLIXENE\n",
      "--- EPOCH 37/50 ---\n",
      "train_batch (Avg. Loss 1.059, Accuracy 66.4): 100%|██████████| 351/351 [01:21<00:00,  4.30it/s]\n",
      "test_batch (Avg. Loss 1.507, Accuracy 57.2): 100%|██████████| 39/39 [00:02<00:00, 13.19it/s]\n",
      "*** Saved checkpoint checkpoints/rnn.pt at epoch 37\n",
      "ACT I. Scene I.\n",
      "Northnight. King Henry himself.\n",
      "\n",
      "Enter Polonius and the Lord of Lancaster,\n",
      "\n",
      "And his \n",
      "--- EPOCH 38/50 ---\n",
      "train_batch (Avg. Loss 1.055, Accuracy 66.5): 100%|██████████| 351/351 [01:21<00:00,  4.30it/s]\n",
      "test_batch (Avg. Loss 1.468, Accuracy 57.4): 100%|██████████| 39/39 [00:02<00:00, 13.19it/s]\n",
      "*** Saved checkpoint checkpoints/rnn.pt at epoch 38\n",
      "ACT I. SCENE 1.\n",
      "\n",
      "England. Before William Shakespeare\n",
      "\n",
      "Doctor. The EARL OF SURREY:\n",
      "What, come the wor\n",
      "--- EPOCH 39/50 ---\n",
      "train_batch (Avg. Loss 1.052, Accuracy 66.6): 100%|██████████| 351/351 [01:21<00:00,  4.29it/s]\n",
      "test_batch (Avg. Loss 1.472, Accuracy 57.5): 100%|██████████| 39/39 [00:02<00:00, 13.17it/s]\n",
      "*** Saved checkpoint checkpoints/rnn.pt at epoch 39\n",
      "ACT I. SCENE I.\n",
      "                                                                                Ente\n",
      "--- EPOCH 40/50 ---\n",
      "train_batch (Avg. Loss 1.049, Accuracy 66.7): 100%|██████████| 351/351 [01:21<00:00,  4.30it/s]\n",
      "test_batch (Avg. Loss 1.472, Accuracy 57.4): 100%|██████████| 39/39 [00:02<00:00, 13.16it/s]\n",
      "*** Saved checkpoint checkpoints/rnn.pt at epoch 40\n",
      "ACT I. SCENE I.\n",
      "                                                                                    \n",
      "--- EPOCH 41/50 ---\n",
      "train_batch (Avg. Loss 1.044, Accuracy 66.8): 100%|██████████| 351/351 [01:21<00:00,  4.30it/s]\n",
      "test_batch (Avg. Loss 1.476, Accuracy 57.4): 100%|██████████| 39/39 [00:02<00:00, 13.18it/s]\n",
      "*** Saved checkpoint checkpoints/rnn.pt at epoch 41\n",
      "ACT I. SCENE I.\n",
      "                                     AEDILES.\n",
      "\n",
      "                                     \n",
      "--- EPOCH 42/50 ---\n",
      "train_batch (Avg. Loss 1.042, Accuracy 66.9): 100%|██████████| 351/351 [01:21<00:00,  4.30it/s]\n",
      "test_batch (Avg. Loss 1.461, Accuracy 57.6): 100%|██████████| 39/39 [00:02<00:00, 13.16it/s]\n",
      "*** Saved checkpoint checkpoints/rnn.pt at epoch 42\n",
      "ACT I. SCENE I.\n",
      "The DUKE'S palace\n",
      "\n",
      "Enter WARWICK, BEROWNE, and SERVANTS\n",
      "\n",
      "  GANDRRO. My lord, a thous\n",
      "--- EPOCH 43/50 ---\n",
      "train_batch (Avg. Loss 1.038, Accuracy 67.0): 100%|██████████| 351/351 [01:21<00:00,  4.30it/s]\n",
      "test_batch (Avg. Loss 1.495, Accuracy 57.2): 100%|██████████| 39/39 [00:02<00:00, 13.20it/s]\n",
      "*** Saved checkpoint checkpoints/rnn.pt at epoch 43\n",
      "ACT I. SCENE I.\n",
      "Capulet's house.\n",
      "\n",
      "Flourish. Enter PROVOST, ANTONY, and ADRIANA, and others.\n",
      "\n",
      "SCENE:\n",
      "\n",
      "--- EPOCH 44/50 ---\n",
      "train_batch (Avg. Loss 1.035, Accuracy 67.0): 100%|██████████| 351/351 [01:21<00:00,  4.30it/s]\n",
      "test_batch (Avg. Loss 1.467, Accuracy 57.3): 100%|██████████| 39/39 [00:02<00:00, 13.16it/s]\n",
      "*** Saved checkpoint checkpoints/rnn.pt at epoch 44\n",
      "ACT I. SCENE 1.\n",
      "\n",
      "London. The palace\n",
      "\n",
      "Enter, and RICHARD, and SOMERSET, and BASTARD\n",
      "\n",
      "  FALSTAFF. Welc\n",
      "--- EPOCH 45/50 ---\n",
      "train_batch (Avg. Loss 1.031, Accuracy 67.1): 100%|██████████| 351/351 [01:21<00:00,  4.30it/s]\n",
      "test_batch (Avg. Loss 1.484, Accuracy 57.3): 100%|██████████| 39/39 [00:02<00:00, 13.20it/s]\n",
      "*** Saved checkpoint checkpoints/rnn.pt at epoch 45\n",
      "ACT I. SCENE 1.\n",
      "\n",
      "                                                                                   \n",
      "--- EPOCH 46/50 ---\n",
      "train_batch (Avg. Loss 1.027, Accuracy 67.3): 100%|██████████| 351/351 [01:21<00:00,  4.30it/s]\n",
      "test_batch (Avg. Loss 1.472, Accuracy 57.6): 100%|██████████| 39/39 [00:02<00:00, 13.19it/s]\n",
      "*** Saved checkpoint checkpoints/rnn.pt at epoch 46\n",
      "ACT I. SCENE I.\n",
      "                                                                                    \n",
      "--- EPOCH 47/50 ---\n",
      "train_batch (Avg. Loss 1.024, Accuracy 67.4): 100%|██████████| 351/351 [01:21<00:00,  4.30it/s]\n",
      "test_batch (Avg. Loss 1.475, Accuracy 57.6): 100%|██████████| 39/39 [00:02<00:00, 13.20it/s]\n",
      "*** Saved checkpoint checkpoints/rnn.pt at epoch 47\n",
      "ACT I. SCENE I.\n",
      "  Paris. Good Master Stanley.\n",
      "\n",
      "                                Enter SUFFOLK\n",
      "\n",
      "  KING\n",
      "--- EPOCH 48/50 ---\n",
      "train_batch (Avg. Loss 1.021, Accuracy 67.5): 100%|██████████| 351/351 [01:21<00:00,  4.30it/s]\n",
      "test_batch (Avg. Loss 1.472, Accuracy 57.8): 100%|██████████| 39/39 [00:02<00:00, 13.20it/s]\n",
      "*** Saved checkpoint checkpoints/rnn.pt at epoch 48\n",
      "ACT I. SCENE I.\n",
      "Rome. The palace\n",
      "\n",
      "Flourish. Enter CATESBY, and ATTENDANTS\n",
      "\n",
      "  SIR TOBY. Shall I come \n",
      "--- EPOCH 49/50 ---\n",
      "train_batch (Avg. Loss 1.018, Accuracy 67.5): 100%|██████████| 351/351 [01:21<00:00,  4.30it/s]\n",
      "test_batch (Avg. Loss 1.473, Accuracy 57.8): 100%|██████████| 39/39 [00:02<00:00, 13.20it/s]\n",
      "*** Saved checkpoint checkpoints/rnn.pt at epoch 49\n",
      "ACT I. SCENE 1.\n",
      "\n",
      "London. The EARL OF SALISBURY\n",
      "\n",
      "    Before the King of Hereford to the Capitol.\n",
      "\n",
      "  F\n",
      "--- EPOCH 50/50 ---\n",
      "train_batch (Avg. Loss 1.016, Accuracy 67.6): 100%|██████████| 351/351 [01:21<00:00,  4.30it/s]\n",
      "test_batch (Avg. Loss 1.470, Accuracy 57.9): 100%|██████████| 39/39 [00:02<00:00, 13.19it/s]\n",
      "*** Saved checkpoint checkpoints/rnn.pt at epoch 50\n",
      "ACT I. SCENE 1.\n",
      "\n",
      "London. The Parthieles with the Senate hale\n",
      "\n",
      "Enter CLOWN\n",
      "\n",
      "  SECOND GENTLEMAN. If th\n"
     ]
    },
    {
     "data": {
      "image/png": "[encoded data removed]",
      "text/plain": [
       "<Figure size 1152x720 with 4 Axes>"
      ]
     },
     "metadata": {
      "needs_background": "light"
     },
     "output_type": "display_data"
    }
   ],
   "source": [
    "from cs3600.plot import plot_fit\n",
    "\n",
    "def post_epoch_fn(epoch, train_res, test_res, verbose):\n",
    "    # Update learning rate\n",
    "    scheduler.step(test_res.accuracy)\n",
    "    # Sample from model to show progress\n",
    "    if verbose:\n",
    "        start_seq = \"ACT I.\"\n",
    "        generated_sequence = charnn.generate_from_model(\n",
    "            model, start_seq, 100, (char_to_idx,idx_to_char), T=0.5\n",
    "        )\n",
    "        print(generated_sequence)\n",
    "\n",
    "# Train, unless final checkpoint is found\n",
    "checkpoint_file_final = f'{checkpoint_file}_final.pt'\n",
    "if os.path.isfile(checkpoint_file_final):\n",
    "    print(f'*** Loading final checkpoint file {checkpoint_file_final} instead of training')\n",
    "    saved_state = torch.load(checkpoint_file_final, map_location=device)\n",
    "    model.load_state_dict(saved_state['model_state'])\n",
    "else:\n",
    "    try:\n",
    "        # Print pre-training sampling\n",
    "        print(charnn.generate_from_model(model, \"ACT I.\", 100, (char_to_idx,idx_to_char), T=0.5))\n",
    "\n",
    "        fit_res = trainer.fit(dl_train, dl_test, num_epochs, max_batches=None,\n",
    "                              post_epoch_fn=post_epoch_fn, early_stopping=early_stopping,\n",
    "                              checkpoints=checkpoint_file, print_every=1)\n",
    "        \n",
    "        fig, axes = plot_fit(fit_res)\n",
    "    except KeyboardInterrupt as e:\n",
    "        print('\\n *** Training interrupted by user')"
   ]
  },
  {
   "cell_type": "markdown",
   "metadata": {
    "id": "gWgF06A95swL"
   },
   "source": [
    "### Generating a work of art\n",
    "<a id=part1_8></a>"
   ]
  },
  {
   "cell_type": "markdown",
   "metadata": {
    "id": "dMshkArf5swL"
   },
   "source": [
    "Armed with our fully trained model, let's generate the next Hamlet! You should experiment with modifying the sampling temperature and see what happens.\n",
    "\n",
    "The text you generate should “look” like a Shakespeare play:\n",
    "old-style English words and sentence structure, directions for the actors\n",
    "(like “Exit/Enter”), sections (Act I/Scene III) etc.\n",
    "There will be no coherent plot of course, but it should at least seem like\n",
    "a Shakespearean play when not looking too closely.\n",
    "If this is not what you see, go back, debug and/or and re-train.\n",
    "\n",
    "**TODO**: Specify the generation parameters in the `part1_generation_params()` function within the `hw3/answers.py` module."
   ]
  },
  {
   "cell_type": "code",
   "execution_count": 24,
   "metadata": {
    "colab": {
     "base_uri": "https://localhost:8080/"
    },
    "execution": {
     "iopub.execute_input": "2021-01-22T10:38:52.374495Z",
     "iopub.status.busy": "2021-01-22T10:38:52.373804Z",
     "iopub.status.idle": "2021-01-22T10:39:11.873893Z",
     "shell.execute_reply": "2021-01-22T10:39:11.874547Z"
    },
    "executionInfo": {
     "elapsed": 4842,
     "status": "ok",
     "timestamp": 1640452166038,
     "user": {
      "displayName": "Dana Gorovici",
      "photoUrl": "https://lh3.googleusercontent.com/a/default-user=s64",
      "userId": "03883066315521848737"
     },
     "user_tz": -120
    },
    "id": "pb3wmwG55swL",
    "outputId": "c48adc0b-691a-4323-b72c-8e6563cc0228"
   },
   "outputs": [
    {
     "name": "stdout",
     "output_type": "stream",
     "text": [
      "Men at some time are masters of their fates: The fault, dear Brutus, is not in our stars, But in ourselves, that we are underlings.\n",
      "\n",
      "  Lord Mayor, here comes the King's grace with all the rest.\n",
      "\n",
      "  '\"And so have I the truth of the King's country:\n",
      "  What though they see the water in the end,\n",
      "  For the perfume of this the subject still,\n",
      "  The king doth death and slave the crown and cares,\n",
      "  And better with the proud resolution;\n",
      "  And all the conscience of the streets of France,\n",
      "  Which he is passing for the sea will see\n",
      "  That they are dead in arms and the humour of the north,\n",
      "  A fearful tongue and seat and such a banks\n",
      "  To water so he had forgot the princes\n",
      "  That he hath sent to stop the sacred state,\n",
      "  Whose care of soul should be the manner of your brother,\n",
      "  And for the strength of the other wearing there;\n",
      "  And in the contrary of the sea for me,\n",
      "  And so he stands not worth a man of them\n",
      "  That he would grant me worth and sorrow grows.\n",
      "  Good man, and then, I am the senators of this,\n",
      "  I will not be the bare of this and understand.\n",
      "  What shall I say that I must be a stone?\n",
      "  But then I see the father of the sea.\n",
      "\n",
      "  '\"A woman that the air is so sure to bear the fool,\n",
      "  On me and heart and comfort and desire\n",
      "  Which should be presently at the true steed\n",
      "  To catch the state of a school to the world.\n",
      "  And then I well resembled all the rest.\n",
      "  And here I dream to be a man to stream\n",
      "  That we have been to see the sea of love.\n",
      "  Go to the forest of the present thing that he hath made the\n",
      "     proverb of the court. The castle of the King's daughter, and the rest\n",
      "     the King should be a bond of steel for the greatest consent of the stars.\n",
      "                                                                                               Exit.\n",
      "\n",
      "SCENE II.\n",
      "The park\n",
      "\n",
      "Enter CHARLES, SHALLOW, ARCHBISHOP OF CARLISLE, and LORD CHAMBERLAIN\n",
      "\n",
      "  BOYET. What both the sense of this for any business were this?\n",
      "  DUKE. Ay, but the gentleman is a good country,\n",
      "    Where the way to the sea of solemnity,\n",
      "    And the King stands to be a soldier's head,\n",
      "    That we can enter the summer in the world,\n",
      "    Then would have say 'The present and his state\n",
      "    That we will quicken when the world content\n",
      "    The winds and fathers and the warlike subjects.\n",
      "    The searching manner of the King and then,\n",
      "    The greatest part of his own wings are true.\n",
      "    This is the quarrel where he would be sooner.\n",
      "    When I protest, I should be gone about,\n",
      "    And then I have some sorrow to be borne.\n",
      "    The King is touch'd and forced as the deed,\n",
      "    Which the soul that you see the day and me.\n",
      "    And therefore, madam, we will be a stone;\n",
      "    And therefore I have read the world in prison,\n",
      "    But that the sum of this of men were such a bastard.\n",
      "    The next unnatural personal care\n",
      "    Will some success to say the least weak parts\n",
      "    For the which hath a countenance to the King.\n",
      "    I have forgot the strength of the traitor too.\n",
      "    But what a woman hath not he with him?\n",
      "    And so deliver him the greatest lady,\n",
      "    The present hath a soldier's house\n",
      "    And crowned with a good of proof of him.\n",
      "    And he is such a part of this her father.\n",
      "    The King that hath a second course and seem,\n",
      "    And dares the wind and every courser's strength.\n",
      "    The word of all the commons cannot be.\n",
      "    The world are the water that must be with them.\n",
      "    And therefore be not stay'd to tell your Grace\n",
      "    That I may see the present of the King\n",
      "    Shall be the clouds and comfort and the rest.\n",
      "    The commons will not have him like a seat,\n",
      "    And straight at home and him that they are dead.\n",
      "    And then I have done the base hand wear the sea,\n",
      "    For I have done no more than the most strange\n",
      "    That he shall be a man of the true course.\n",
      "  BEROWNE. What should I be a stranger? Then have I not there\n",
      "    I see the King hath sent to see it in the stars\n",
      "    Or charm the truth of this that was a profit.\n",
      "    The soonest man cannot carry the state of this.\n",
      "    The word is any man of heaven and dreams,\n",
      "    And could not set upon the court of thine.\n",
      "    What should I say the deed did say it is the streets?\n",
      "    What think'st thou that thy face that stands the bands?\n",
      "    What says the matter that the should be so?\n",
      "    I think the sea shall find the temple of the world.\n",
      "    The father and the day of means the state\n",
      "    That have the new strength of the King, that thou\n",
      "    Are burnt and soldiers. The King is so brief.\n",
      "    And when thou dar'st be satisfied a captain,\n",
      "    The which I saw the state of this more part\n",
      "    In this and made the sword of peace to bed.\n",
      "    I have heard a lover that I have deserv'd\n",
      "    The stranger than a speech of heaven to say\n",
      "    I say, but that he comes to be a son.\n",
      "    And therefore then have been a great and grace,\n",
      "    And then the people will the blood of men\n",
      "    Are more than her son is a woman's head.\n",
      "    A most the state of this infirmity,\n",
      "    That the consent of this the sun the world,\n",
      "    The sun and such a speed that burns the sea\n",
      "    To the King and a poor heavenly hand of nature.\n",
      "    The mercy of the doors of this accusers\n",
      "    Hath true the compass of the wars of heaven,\n",
      "    That he shall still perpetual state to them.\n",
      "    The second heaven are done the start of thine.\n",
      "    What cause the sun hath lost the court of heaven?\n",
      "    The soul of life and grief is foul a month,\n",
      "    So far as I will want our rest and slaughter.\n",
      "                                                                                        Exeunt\n",
      "\n",
      "SCENE III.\n",
      "Falstaff comes the castle.\n",
      "\n",
      "Enter Hamlet and Prince and Soldiers.\n",
      "\n",
      "  FALSTAFF. Here comes the Duke of York, and the King of Suffolk made the party\n",
      "    his father and his countryman.\n",
      "  BARDOLPH. And I will do them all the market-place.\n",
      "  SHALLOW. And therefore go to the King. The King hath many things.\n",
      "                                                                                    Exit\n",
      "\n",
      "SCENE II.\n",
      "The DUKE'S palace\n",
      "\n",
      "Enter QUEEN ELIZABETH, BUCKINGHAM, SIR WILLIAM LADY MACBETH, and others\n",
      "\n",
      "  KING HENRY. What say'st thou that thy beauty was a day?\n",
      "    The manner of the world will not shake off\n",
      "    The clouds and fame in their apparel on the world,\n",
      "    The King and rain of England will defend\n",
      "    The second hours of the strength of the good\n",
      "    Before the true and famous mouth of such\n",
      "    A present can commit the day of love.\n",
      "    And what say you, sir? What then? Is this me?\n",
      "    What will I see the world she was a father?\n",
      "    I will not prove our service and the traitor.\n",
      "    The bridege of the world stands to the peace.\n",
      "    And then the man I say the trumpet seems\n",
      "    The same the King and the state of the law\n",
      "    With our recouriencing three more fathers\n",
      "    To strike our fathers and the secret streams\n",
      "    That they have lost the best of the King like a deed.\n",
      "    I shall not come to see the moon. The understanding\n",
      "    Would have a part of this strange father's son.\n",
      "    She hath not well defended the world for them.\n",
      "    What should I say I was a sin to be?\n",
      "    That hath a charge to see the story of a flatterer.\n",
      "    Now the last of the commons is the soul,\n",
      "    And of the sun is strange to break a traitor,\n",
      "    And will make proud a stone of the state of the rain,\n",
      "    And the sea of death would not have a drunkard\n",
      "    And ever to the state of state is strange.\n",
      "    What think you that which sense of service came\n",
      "    To watch my life to me to see the way\n",
      "    To traitor so the present course of triumph\n",
      "    To hear the trumpet so for this desert.\n",
      "    The bird of soul is bound to heaven and heaven\n",
      "    That with the strength of the best manner of my hand,\n",
      "    And make the court of my love stands to heaven.\n",
      "    What are they so?\n",
      "    What say you to the King? What say you to this?\n",
      "    The rest that I am all discoursed man.\n",
      "    I am a good time of my prayers and sure,\n",
      "    And so much harm as much a word in this.\n",
      "    I will not think the state of order will,\n",
      "    The crown and fathers and the grave of France,\n",
      "    And here are framed and sent to the weaker state.\n",
      "    I am a part of this and father of the King\n",
      "    That shall be set down that I have a stranger\n",
      "    And leave you to his country. What do you not see\n",
      "    The present company of this deeds come,\n",
      "    And with my heart as he that do content\n",
      "    A second face of this proceeding thing?\n",
      "    The world was so despis'd and saved before the King,\n",
      "    And the most rage that stands upon the rest.\n",
      "    The King hath been as such a stranger shame,\n",
      "    But when the world will come to look on him,\n",
      "    And the most changes of the day of greatness\n",
      "    With which he doth and happy man to see\n",
      "    The commons of the true account of them.\n",
      "    What should I do the proud tongue that have done\n",
      "    To say and have my sovereign common state\n",
      "    That thou art not a soldier?\n",
      "  KING RICHARD. Stand up thy honour to the King.\n",
      "  KING RICHARD. What says he not?\n",
      "  KING RICHARD. What say'st thou that he hath been so reported?\n",
      "    I have a trial to the King and the King.\n",
      "    I have not been so strong a pretty day.\n",
      "    And then I have more heart a word of him.\n",
      "    The King is a most proceeding traitor.\n",
      "    What sayest thou then the state of this desert\n",
      "    And let the crown with her that do the present state?\n",
      "    O thou worthy honour in the body of this course,\n",
      "    The trumpet sounds to the contempt of the King.\n",
      "    What think you what the King was there to be?\n",
      "    The other sweeter than the which the King;\n",
      "    And so I would not be a man of mine,\n",
      "    And show me a most brother to the King.\n",
      "  KING RICHARD. What means the man and more than the King hath found him?\n",
      "  KING RICHARD. What says the King of Dorseterning him?\n",
      "    What think'st thou that this way thou wilt attend\n",
      "    The forest of this to th' King of England's house?\n",
      "    So many tales of this the world is poor,\n",
      "    And then the man hath made the earth a son\n",
      "    To take the true and speed to the King first.\n",
      "    I have receiv'd his father with a conscience.\n",
      "    A man will stop the promise of the crown.\n",
      "    Then the court of the main and seal of the King\n",
      "    To make the\n"
     ]
    }
   ],
   "source": [
    "from hw3.answers import part1_generation_params\n",
    "\n",
    "start_seq, temperature = part1_generation_params()\n",
    "\n",
    "generated_sequence = charnn.generate_from_model(\n",
    "    model, start_seq, 10000, (char_to_idx,idx_to_char), T=temperature\n",
    ")\n",
    "\n",
    "print(generated_sequence)"
   ]
  },
  {
   "cell_type": "markdown",
   "metadata": {
    "id": "CJBwMzbu5swL"
   },
   "source": [
    "## Questions\n",
    "<a id=part1_9></a>"
   ]
  },
  {
   "cell_type": "markdown",
   "metadata": {
    "id": "syd6WY9p5swL"
   },
   "source": [
    "**TODO** Answer the following questions. Write your answers in the appropriate variables in the module `hw3/answers.py`."
   ]
  },
  {
   "cell_type": "code",
   "execution_count": 30,
   "metadata": {
    "execution": {
     "iopub.execute_input": "2021-01-22T10:39:11.878597Z",
     "iopub.status.busy": "2021-01-22T10:39:11.877685Z",
     "iopub.status.idle": "2021-01-22T10:39:11.907005Z",
     "shell.execute_reply": "2021-01-22T10:39:11.907632Z"
    },
    "executionInfo": {
     "elapsed": 815,
     "status": "ok",
     "timestamp": 1640452182805,
     "user": {
      "displayName": "Dana Gorovici",
      "photoUrl": "https://lh3.googleusercontent.com/a/default-user=s64",
      "userId": "03883066315521848737"
     },
     "user_tz": -120
    },
    "id": "gtbdC-Ty5swM"
   },
   "outputs": [],
   "source": [
    "from cs3600.answers import display_answer\n",
    "import hw3.answers"
   ]
  },
  {
   "cell_type": "markdown",
   "metadata": {
    "id": "b_Qlkpog5swM"
   },
   "source": [
    "### Question 1\n",
    "Why do we split the corpus into sequences instead of training on the whole text?"
   ]
  },
  {
   "cell_type": "code",
   "execution_count": 31,
   "metadata": {
    "colab": {
     "base_uri": "https://localhost:8080/",
     "height": 116
    },
    "execution": {
     "iopub.execute_input": "2021-01-22T10:39:11.910907Z",
     "iopub.status.busy": "2021-01-22T10:39:11.910297Z",
     "iopub.status.idle": "2021-01-22T10:39:11.932056Z",
     "shell.execute_reply": "2021-01-22T10:39:11.932575Z"
    },
    "executionInfo": {
     "elapsed": 21,
     "status": "ok",
     "timestamp": 1640452183506,
     "user": {
      "displayName": "Dana Gorovici",
      "photoUrl": "https://lh3.googleusercontent.com/a/default-user=s64",
      "userId": "03883066315521848737"
     },
     "user_tz": -120
    },
    "id": "ENMeIJ6c5swM",
    "outputId": "841e44a1-4464-422c-ef8e-913aba05e4ba"
   },
   "outputs": [
    {
     "data": {
      "text/markdown": [
       "\n",
       "The length of the overall corpus is too long. If we wanted to treat the full corpus as a single sequence we would need a matrix of width = length of corpus. \n",
       "A matrix of this size would be compatational very heavy to train and calculate weights. \n",
       "Also the reason we are using RNN on this sequence is to add an element of memory. But with such a long sequence, there may not be any conneciton between the beginning \n",
       "of the sequence and the end. So it does not make sense to treat it as a single sequence where the start will influence the output of the end.\n",
       " "
      ],
      "text/plain": [
       "<IPython.core.display.Markdown object>"
      ]
     },
     "metadata": {},
     "output_type": "display_data"
    }
   ],
   "source": [
    "display_answer(hw3.answers.part1_q1)"
   ]
  },
  {
   "cell_type": "markdown",
   "metadata": {
    "id": "KBTip44E5swM"
   },
   "source": [
    "### Question 2\n",
    "How is it possible that the generated text clearly shows memory longer than the sequence length?"
   ]
  },
  {
   "cell_type": "code",
   "execution_count": 32,
   "metadata": {
    "colab": {
     "base_uri": "https://localhost:8080/",
     "height": 64
    },
    "execution": {
     "iopub.execute_input": "2021-01-22T10:39:11.935871Z",
     "iopub.status.busy": "2021-01-22T10:39:11.935117Z",
     "iopub.status.idle": "2021-01-22T10:39:11.956627Z",
     "shell.execute_reply": "2021-01-22T10:39:11.957153Z"
    },
    "executionInfo": {
     "elapsed": 18,
     "status": "ok",
     "timestamp": 1640452183507,
     "user": {
      "displayName": "Dana Gorovici",
      "photoUrl": "https://lh3.googleusercontent.com/a/default-user=s64",
      "userId": "03883066315521848737"
     },
     "user_tz": -120
    },
    "id": "VCyXIy-e5swM",
    "outputId": "b64b4d47-54b2-452f-dcbb-eef488524190"
   },
   "outputs": [
    {
     "data": {
      "text/markdown": [
       "\n",
       "The hidden state represents the previous output that is input into the next step. This is the aspect of memory but it does not depend on the length of the sequence.\n",
       "It does not have to match the length of the sequence. \n"
      ],
      "text/plain": [
       "<IPython.core.display.Markdown object>"
      ]
     },
     "metadata": {},
     "output_type": "display_data"
    }
   ],
   "source": [
    "display_answer(hw3.answers.part1_q2)"
   ]
  },
  {
   "cell_type": "markdown",
   "metadata": {
    "id": "gYYJdGu95swM"
   },
   "source": [
    "### Question 3\n",
    "Why are we not shuffling the order of batches when training?"
   ]
  },
  {
   "cell_type": "code",
   "execution_count": 33,
   "metadata": {
    "colab": {
     "base_uri": "https://localhost:8080/",
     "height": 98
    },
    "execution": {
     "iopub.execute_input": "2021-01-22T10:39:11.960170Z",
     "iopub.status.busy": "2021-01-22T10:39:11.959572Z",
     "iopub.status.idle": "2021-01-22T10:39:11.980925Z",
     "shell.execute_reply": "2021-01-22T10:39:11.981585Z"
    },
    "executionInfo": {
     "elapsed": 13,
     "status": "ok",
     "timestamp": 1640452183508,
     "user": {
      "displayName": "Dana Gorovici",
      "photoUrl": "https://lh3.googleusercontent.com/a/default-user=s64",
      "userId": "03883066315521848737"
     },
     "user_tz": -120
    },
    "id": "ZtoZ4kT75swM",
    "outputId": "4d343a25-9b3b-46a4-a292-2a5eb76d5b47"
   },
   "outputs": [
    {
     "data": {
      "text/markdown": [
       "\n",
       "Although we do not use a full text as a single sequence as we explained in question 1, while training the model we do rely on memory that is passed\n",
       "on from sequence to sequence, the hidden states. This memory allows the model to better understand the full context of the corpus\n",
       "and stores the relevant data from previous sequences which also happen to be similar in context to sequences closer together. \n",
       "Therefore, it is improtant to preserve the order of the sequences and not shuffle training samples. \n"
      ],
      "text/plain": [
       "<IPython.core.display.Markdown object>"
      ]
     },
     "metadata": {},
     "output_type": "display_data"
    }
   ],
   "source": [
    "display_answer(hw3.answers.part1_q3)"
   ]
  },
  {
   "cell_type": "markdown",
   "metadata": {
    "id": "OAdY_a4F5swM"
   },
   "source": [
    "### Question 4\n",
    "1. Why do we lower the temperature for sampling (compared to the default of $1.0$)?\n",
    "2. What happens when the temperature is very high and why?\n",
    "3. What happens when the temperature is very low and why?"
   ]
  },
  {
   "cell_type": "code",
   "execution_count": 34,
   "metadata": {
    "colab": {
     "base_uri": "https://localhost:8080/",
     "height": 196
    },
    "execution": {
     "iopub.execute_input": "2021-01-22T10:39:11.985407Z",
     "iopub.status.busy": "2021-01-22T10:39:11.984773Z",
     "iopub.status.idle": "2021-01-22T10:39:12.007777Z",
     "shell.execute_reply": "2021-01-22T10:39:12.008441Z"
    },
    "executionInfo": {
     "elapsed": 828,
     "status": "ok",
     "timestamp": 1640452184323,
     "user": {
      "displayName": "Dana Gorovici",
      "photoUrl": "https://lh3.googleusercontent.com/a/default-user=s64",
      "userId": "03883066315521848737"
     },
     "user_tz": -120
    },
    "id": "UCn_YFGA5swN",
    "outputId": "4dc704f0-462b-4b05-d2c7-268e5de10d18"
   },
   "outputs": [
    {
     "data": {
      "text/markdown": [
       "\n",
       "1. The temperature variable determines how uniform the distribution will be. Temperate of 1 gives a fully uniform distribution.\n",
       "In cases where the char distribution is less uniform (some chars appear more than others) we want to account for this differnt distribution in our model. To do this, we can\n",
       "lower the temperature so that our model will better fit the data.\n",
       "\n",
       "2. When temperature is very high we get a more uniform distribution of chars. This means that the softmax should just give us the argmax of the probability vector.\n",
       "\n",
       "3. When the temperature is very low, there is the most non-uniformity among the distributions.\n",
       "More weight will be give to classes with higher probabilitiy of occurance in corpus. And less weight will be given to classes\n",
       "that have less proability of occurance. This will make the plot of Tempreature above more spiky. \n",
       "\n"
      ],
      "text/plain": [
       "<IPython.core.display.Markdown object>"
      ]
     },
     "metadata": {},
     "output_type": "display_data"
    }
   ],
   "source": [
    "display_answer(hw3.answers.part1_q4)"
   ]
  }
 ],
 "metadata": {
  "accelerator": "GPU",
  "colab": {
   "collapsed_sections": [],
   "machine_shape": "hm",
   "name": "Part1_Sequence.ipynb",
   "provenance": []
  },
  "kernelspec": {
   "display_name": "Python 3",
   "language": "python",
   "name": "python3"
  },
  "language_info": {
   "codemirror_mode": {
    "name": "ipython",
    "version": 3
   },
   "file_extension": ".py",
   "mimetype": "text/x-python",
   "name": "python",
   "nbconvert_exporter": "python",
   "pygments_lexer": "ipython3",
   "version": "3.8.8"
  }
 },
 "nbformat": 4,
 "nbformat_minor": 1
}
